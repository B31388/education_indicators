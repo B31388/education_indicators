{
 "cells": [
  {
   "cell_type": "code",
   "execution_count": 133,
   "id": "540efbcb",
   "metadata": {},
   "outputs": [],
   "source": [
    "import pandas as pd\n",
    "import pandas as pd\n",
    "import geopandas as gpd  # Import geopandas\n",
    "import requests\n",
    "import matplotlib.pyplot as plt\n",
    "import seaborn as sns\n",
    "import folium\n",
    "from folium.plugins import MarkerCluster\n",
    "import numpy as np\n",
    "\n",
    "df = pd.read_csv(\"education_indicators.csv\")"
   ]
  },
  {
   "cell_type": "code",
   "execution_count": 134,
   "id": "36a409bb",
   "metadata": {},
   "outputs": [
    {
     "name": "stdout",
     "output_type": "stream",
     "text": [
      "<class 'pandas.core.frame.DataFrame'>\n",
      "RangeIndex: 1699 entries, 0 to 1698\n",
      "Data columns (total 16 columns):\n",
      " #   Column                                                                                                               Non-Null Count  Dtype \n",
      "---  ------                                                                                                               --------------  ----- \n",
      " 0   Time                                                                                                                 1696 non-null   object\n",
      " 1   Time Code                                                                                                            1694 non-null   object\n",
      " 2   Country Name                                                                                                         1694 non-null   object\n",
      " 3   Country Code                                                                                                         1694 non-null   object\n",
      " 4   Total net enrolment rate, primary, male (%) [UIS.NERT.1.M]                                                           1694 non-null   object\n",
      " 5   Total net enrolment rate, primary, gender parity index (GPI) [UIS.NERT.1.GPI]                                        1694 non-null   object\n",
      " 6   Total net enrolment rate, primary, female (%) [UIS.NERT.1.F]                                                         1694 non-null   object\n",
      " 7   Total net enrolment rate, primary, both sexes (%) [UIS.NERT.1]                                                       1694 non-null   object\n",
      " 8   Total net enrolment rate, lower secondary, male (%) [UIS.NERT.2.M]                                                   1694 non-null   object\n",
      " 9   Total net enrolment rate, lower secondary, gender parity index (GPI) [UIS.NERT.2.GPI]                                1694 non-null   object\n",
      " 10  Total net enrolment rate, lower secondary, female (%) [UIS.NERT.2.F]                                                 1694 non-null   object\n",
      " 11  Total net enrolment rate, lower secondary, both sexes (%) [UIS.NERT.2]                                               1694 non-null   object\n",
      " 12  Government expenditure on primary education as % of GDP (%) [UIS.XGDP.1.FSGOV]                                       1694 non-null   object\n",
      " 13  Government expenditure on secondary education as % of GDP (%) [UIS.XGDP.23.FSGOV]                                    1694 non-null   object\n",
      " 14  Initial government funding per lower secondary student as a percentage of GDP per capita [UIS.XUNIT.GDPCAP.2.FSGOV]  1694 non-null   object\n",
      " 15  GDP per capita, PPP (current international $) [NY.GDP.PCAP.PP.CD]                                                    1694 non-null   object\n",
      "dtypes: object(16)\n",
      "memory usage: 212.5+ KB\n",
      "None\n",
      "        Time Time Code Country Name Country Code  \\\n",
      "count   1696      1694         1694         1694   \n",
      "unique     9         7          242          242   \n",
      "top     2010    YR2010  Afghanistan          AFG   \n",
      "freq     242       242            7            7   \n",
      "\n",
      "       Total net enrolment rate, primary, male (%) [UIS.NERT.1.M]  \\\n",
      "count                                                1694           \n",
      "unique                                                826           \n",
      "top                                                    ..           \n",
      "freq                                                  732           \n",
      "\n",
      "       Total net enrolment rate, primary, gender parity index (GPI) [UIS.NERT.1.GPI]  \\\n",
      "count                                                1694                              \n",
      "unique                                                894                              \n",
      "top                                                    ..                              \n",
      "freq                                                  728                              \n",
      "\n",
      "       Total net enrolment rate, primary, female (%) [UIS.NERT.1.F]  \\\n",
      "count                                                1694             \n",
      "unique                                                769             \n",
      "top                                                    ..             \n",
      "freq                                                  732             \n",
      "\n",
      "       Total net enrolment rate, primary, both sexes (%) [UIS.NERT.1]  \\\n",
      "count                                                1694               \n",
      "unique                                                965               \n",
      "top                                                    ..               \n",
      "freq                                                  723               \n",
      "\n",
      "       Total net enrolment rate, lower secondary, male (%) [UIS.NERT.2.M]  \\\n",
      "count                                                1694                   \n",
      "unique                                                761                   \n",
      "top                                                    ..                   \n",
      "freq                                                  934                   \n",
      "\n",
      "       Total net enrolment rate, lower secondary, gender parity index (GPI) [UIS.NERT.2.GPI]  \\\n",
      "count                                                1694                                      \n",
      "unique                                                729                                      \n",
      "top                                                    ..                                      \n",
      "freq                                                  930                                      \n",
      "\n",
      "       Total net enrolment rate, lower secondary, female (%) [UIS.NERT.2.F]  \\\n",
      "count                                                1694                     \n",
      "unique                                                761                     \n",
      "top                                                    ..                     \n",
      "freq                                                  934                     \n",
      "\n",
      "       Total net enrolment rate, lower secondary, both sexes (%) [UIS.NERT.2]  \\\n",
      "count                                                1694                       \n",
      "unique                                                899                       \n",
      "top                                                    ..                       \n",
      "freq                                                  796                       \n",
      "\n",
      "       Government expenditure on primary education as % of GDP (%) [UIS.XGDP.1.FSGOV]  \\\n",
      "count                                                1694                               \n",
      "unique                                                693                               \n",
      "top                                                    ..                               \n",
      "freq                                                 1000                               \n",
      "\n",
      "       Government expenditure on secondary education as % of GDP (%) [UIS.XGDP.23.FSGOV]  \\\n",
      "count                                                1694                                  \n",
      "unique                                                708                                  \n",
      "top                                                    ..                                  \n",
      "freq                                                  986                                  \n",
      "\n",
      "       Initial government funding per lower secondary student as a percentage of GDP per capita [UIS.XUNIT.GDPCAP.2.FSGOV]  \\\n",
      "count                                                1694                                                                    \n",
      "unique                                                534                                                                    \n",
      "top                                                    ..                                                                    \n",
      "freq                                                 1160                                                                    \n",
      "\n",
      "       GDP per capita, PPP (current international $) [NY.GDP.PCAP.PP.CD]  \n",
      "count                                                1694                 \n",
      "unique                                               1505                 \n",
      "top                                                    ..                 \n",
      "freq                                                  190                 \n",
      "Time                                                                                                                   3\n",
      "Time Code                                                                                                              5\n",
      "Country Name                                                                                                           5\n",
      "Country Code                                                                                                           5\n",
      "Total net enrolment rate, primary, male (%) [UIS.NERT.1.M]                                                             5\n",
      "Total net enrolment rate, primary, gender parity index (GPI) [UIS.NERT.1.GPI]                                          5\n",
      "Total net enrolment rate, primary, female (%) [UIS.NERT.1.F]                                                           5\n",
      "Total net enrolment rate, primary, both sexes (%) [UIS.NERT.1]                                                         5\n",
      "Total net enrolment rate, lower secondary, male (%) [UIS.NERT.2.M]                                                     5\n",
      "Total net enrolment rate, lower secondary, gender parity index (GPI) [UIS.NERT.2.GPI]                                  5\n",
      "Total net enrolment rate, lower secondary, female (%) [UIS.NERT.2.F]                                                   5\n",
      "Total net enrolment rate, lower secondary, both sexes (%) [UIS.NERT.2]                                                 5\n",
      "Government expenditure on primary education as % of GDP (%) [UIS.XGDP.1.FSGOV]                                         5\n",
      "Government expenditure on secondary education as % of GDP (%) [UIS.XGDP.23.FSGOV]                                      5\n",
      "Initial government funding per lower secondary student as a percentage of GDP per capita [UIS.XUNIT.GDPCAP.2.FSGOV]    5\n",
      "GDP per capita, PPP (current international $) [NY.GDP.PCAP.PP.CD]                                                      5\n",
      "dtype: int64\n"
     ]
    }
   ],
   "source": [
    "print(df.info())\n",
    "print(df.describe())\n",
    "print(df.isnull().sum())"
   ]
  },
  {
   "cell_type": "code",
   "execution_count": 135,
   "id": "6be28a4f",
   "metadata": {},
   "outputs": [],
   "source": [
    "# Example: Fill missing numerical values with median\n",
    "df.fillna(df.median(numeric_only=True), inplace=True)"
   ]
  },
  {
   "cell_type": "code",
   "execution_count": 136,
   "id": "cada3ba8",
   "metadata": {},
   "outputs": [],
   "source": [
    "df.duplicated().sum()\n",
    "# Remove duplicates\n",
    "df = df.drop_duplicates()"
   ]
  },
  {
   "cell_type": "code",
   "execution_count": 137,
   "id": "d8354a3c",
   "metadata": {},
   "outputs": [],
   "source": [
    "# Standardize country names\n",
    "df[\"country\"] = df[\"Country Name\"].str.strip().str.title()"
   ]
  },
  {
   "cell_type": "code",
   "execution_count": 138,
   "id": "277afe8d",
   "metadata": {},
   "outputs": [],
   "source": [
    "# Load GeoJSON\n",
    "url = \"https://raw.githubusercontent.com/python-visualization/folium/main/examples/data/world-countries.json\"\n",
    "geo_data = gpd.read_file(url)"
   ]
  },
  {
   "cell_type": "code",
   "execution_count": 139,
   "id": "8fce4154",
   "metadata": {},
   "outputs": [],
   "source": [
    "# List of African countries (simplified, adjust as needed)\n",
    "african_countries = [\n",
    "    \"Algeria\", \"Angola\", \"Benin\", \"Botswana\", \"Burkina Faso\", \"Burundi\", \"Cabo Verde\",\n",
    "    \"Cameroon\", \"Central African Republic\", \"Chad\", \"Comoros\", \"Congo\", \"Democratic Republic of the Congo\",\n",
    "    \"Djibouti\", \"Egypt\", \"Equatorial Guinea\", \"Eritrea\", \"Eswatini\", \"Ethiopia\", \"Gabon\", \"Gambia\",\n",
    "    \"Ghana\", \"Guinea\", \"Guinea-Bissau\", \"Ivory Coast\", \"Kenya\", \"Lesotho\", \"Liberia\", \"Libya\",\n",
    "    \"Madagascar\", \"Malawi\", \"Mali\", \"Mauritania\", \"Mauritius\", \"Morocco\", \"Mozambique\", \"Namibia\",\n",
    "    \"Niger\", \"Nigeria\", \"Rwanda\", \"Sao Tome and Principe\", \"Senegal\", \"Seychelles\", \"Sierra Leone\",\n",
    "    \"Somalia\", \"South Africa\", \"South Sudan\", \"Sudan\", \"Tanzania\", \"Togo\", \"Tunisia\", \"Uganda\",\n",
    "    \"Zambia\", \"Zimbabwe\"\n",
    "]\n",
    "\n",
    "# Filter for African countries\n",
    "geo_data = geo_data[geo_data[\"name\"].isin(african_countries)]"
   ]
  },
  {
   "cell_type": "code",
   "execution_count": 140,
   "id": "53bee46a",
   "metadata": {},
   "outputs": [],
   "source": [
    "# Merge datasets\n",
    "merged_data = geo_data.merge(df, left_on=\"name\", right_on=\"country\", how=\"left\")"
   ]
  },
  {
   "cell_type": "code",
   "execution_count": 141,
   "id": "79333b80",
   "metadata": {},
   "outputs": [
    {
     "name": "stdout",
     "output_type": "stream",
     "text": [
      "Cleaned dataset saved as 'clean_education_indicators.csv'\n"
     ]
    }
   ],
   "source": [
    "# Save cleaned dataset\n",
    "merged_data.to_csv(\"clean_education_indicators.csv\", index=False)\n",
    "print(\"Cleaned dataset saved as 'clean_education_indicators.csv'\")"
   ]
  },
  {
   "cell_type": "code",
   "execution_count": 142,
   "id": "3d406806",
   "metadata": {},
   "outputs": [
    {
     "name": "stdout",
     "output_type": "stream",
     "text": [
      "Original column names: ['id', 'name', 'geometry', 'Time', 'Time Code', 'Country Name', 'Country Code', 'Total net enrolment rate, primary, male (%) [UIS.NERT.1.M]', 'Total net enrolment rate, primary, gender parity index (GPI) [UIS.NERT.1.GPI]', 'Total net enrolment rate, primary, female (%) [UIS.NERT.1.F]', 'Total net enrolment rate, primary, both sexes (%) [UIS.NERT.1]', 'Total net enrolment rate, lower secondary, male (%) [UIS.NERT.2.M]', 'Total net enrolment rate, lower secondary, gender parity index (GPI) [UIS.NERT.2.GPI]', 'Total net enrolment rate, lower secondary, female (%) [UIS.NERT.2.F]', 'Total net enrolment rate, lower secondary, both sexes (%) [UIS.NERT.2]', 'Government expenditure on primary education as % of GDP (%) [UIS.XGDP.1.FSGOV]', 'Government expenditure on secondary education as % of GDP (%) [UIS.XGDP.23.FSGOV]', 'Initial government funding per lower secondary student as a percentage of GDP per capita [UIS.XUNIT.GDPCAP.2.FSGOV]', 'GDP per capita, PPP (current international $) [NY.GDP.PCAP.PP.CD]', 'country']\n"
     ]
    }
   ],
   "source": [
    "# List column names\n",
    "print(\"Original column names:\", merged_data.columns.tolist())"
   ]
  },
  {
   "cell_type": "code",
   "execution_count": 143,
   "id": "64b42041",
   "metadata": {},
   "outputs": [
    {
     "name": "stdout",
     "output_type": "stream",
     "text": [
      "Renamed column names: ['id', 'name', 'geometry', 'Year', 'Time Code', 'country', 'Country Code', 'Primary Male enrollment %', 'Primary Gender Parity index', 'Primary female enrollment %', 'Total Primary enrollment %', 'Total Secondary male enrollment %', 'Lower secondary Gender Parity index', 'Total secondary female enrollment %', 'Total Secondary enrollment %', 'Government primary education expenditure %ge of GDP', 'Government Secondary education expenditure %ge of GDP', 'Initial government funding per lower secondary student as a percentage of GDP per capita [UIS.XUNIT.GDPCAP.2.FSGOV]', 'GDP per capita', 'country']\n"
     ]
    }
   ],
   "source": [
    "rename_dict = {\n",
    "    'Time': 'Year', \n",
    "    'Country Name': 'country',\n",
    "    'Total net enrolment rate, primary, male (%) [UIS.NERT.1.M]' : 'Primary Male enrollment %', \n",
    "    'Total net enrolment rate, primary, gender parity index (GPI) [UIS.NERT.1.GPI]': 'Primary Gender Parity index',\n",
    "    'Total net enrolment rate, primary, female (%) [UIS.NERT.1.F]': 'Primary female enrollment %',\n",
    "    'Total net enrolment rate, primary, both sexes (%) [UIS.NERT.1]':'Total Primary enrollment %',\n",
    "    'Total net enrolment rate, lower secondary, male (%) [UIS.NERT.2.M]': 'Total Secondary male enrollment %',\n",
    "    'Total net enrolment rate, lower secondary, gender parity index (GPI) [UIS.NERT.2.GPI]': 'Lower secondary Gender Parity index',\n",
    "    'Total net enrolment rate, lower secondary, female (%) [UIS.NERT.2.F]': 'Total secondary female enrollment %',\n",
    "    'Total net enrolment rate, lower secondary, both sexes (%) [UIS.NERT.2]':'Total Secondary enrollment %', \n",
    "    'Government expenditure on primary education as % of GDP (%) [UIS.XGDP.1.FSGOV]': 'Government primary education expenditure %ge of GDP', \n",
    "    'Government expenditure on secondary education as % of GDP (%) [UIS.XGDP.23.FSGOV]': 'Government Secondary education expenditure %ge of GDP',\n",
    "    'GDP per capita, PPP (current international $) [NY.GDP.PCAP.PP.CD]': 'GDP per capita'\n",
    "}\n",
    "merged_data = merged_data.rename(columns=rename_dict)\n",
    "print(\"Renamed column names:\", merged_data.columns.tolist())"
   ]
  },
  {
   "cell_type": "code",
   "execution_count": 144,
   "id": "bccca35e",
   "metadata": {},
   "outputs": [
    {
     "name": "stdout",
     "output_type": "stream",
     "text": [
      "Merged data columns after removing duplicate 'country': ['id', 'name', 'geometry', 'Year', 'Time Code', 'Country Code', 'Primary Male enrollment %', 'Primary Gender Parity index', 'Primary female enrollment %', 'Total Primary enrollment %', 'Total Secondary male enrollment %', 'Lower secondary Gender Parity index', 'Total secondary female enrollment %', 'Total Secondary enrollment %', 'Government primary education expenditure %ge of GDP', 'Government Secondary education expenditure %ge of GDP', 'Initial government funding per lower secondary student as a percentage of GDP per capita [UIS.XUNIT.GDPCAP.2.FSGOV]', 'GDP per capita', 'country']\n"
     ]
    }
   ],
   "source": [
    "# Drop one 'country' column, keeping the last occurrence\n",
    "merged_data = merged_data.loc[:, ~merged_data.columns.duplicated(keep='last')]\n",
    "\n",
    "# Verify merged_data columns after removing duplicate\n",
    "print(\"Merged data columns after removing duplicate 'country':\", merged_data.columns.tolist())"
   ]
  },
  {
   "cell_type": "code",
   "execution_count": 145,
   "id": "02c73142",
   "metadata": {},
   "outputs": [
    {
     "name": "stdout",
     "output_type": "stream",
     "text": [
      "       Primary Male enrollment %  Primary female enrollment %  \\\n",
      "count                 158.000000                   158.000000   \n",
      "mean                   82.654523                    79.562530   \n",
      "std                    15.416161                    17.026608   \n",
      "min                    42.428310                    32.739500   \n",
      "25%                    71.045990                    63.895715   \n",
      "50%                    88.704960                    85.100010   \n",
      "75%                    95.671858                    94.234620   \n",
      "max                   100.000000                   100.000000   \n",
      "\n",
      "       Total Secondary male enrollment %  Total secondary female enrollment %  \\\n",
      "count                          76.000000                            76.000000   \n",
      "mean                           66.057297                            59.360439   \n",
      "std                            16.261996                            19.782224   \n",
      "min                            24.002810                            17.542500   \n",
      "25%                            55.051603                            47.895402   \n",
      "50%                            64.967365                            57.817575   \n",
      "75%                            81.048653                            72.040032   \n",
      "max                            97.707690                            97.859720   \n",
      "\n",
      "       Government primary education expenditure %ge of GDP  \\\n",
      "count                                         139.000000     \n",
      "mean                                            1.663347     \n",
      "std                                             0.740666     \n",
      "min                                             0.542080     \n",
      "25%                                             1.050665     \n",
      "50%                                             1.530560     \n",
      "75%                                             2.136600     \n",
      "max                                             3.703170     \n",
      "\n",
      "       Government Secondary education expenditure %ge of GDP  GDP per capita  \n",
      "count                                         143.000000          266.000000  \n",
      "mean                                            1.166940         5479.831131  \n",
      "std                                             0.717454         6727.981485  \n",
      "min                                             0.032530          699.592881  \n",
      "25%                                             0.639340         1609.628341  \n",
      "50%                                             0.938760         2664.074642  \n",
      "75%                                             1.598295         6614.506404  \n",
      "max                                             4.721870        36576.090431  \n"
     ]
    },
    {
     "data": {
      "application/vnd.plotly.v1+json": {
       "config": {
        "plotlyServerURL": "https://plot.ly"
       },
       "data": [
        {
         "bingroup": "x",
         "hovertemplate": "Primary Male enrollment %=%{x}<br>count=%{y}<extra></extra>",
         "legendgroup": "",
         "marker": {
          "color": "#636efa",
          "pattern": {
           "shape": ""
          }
         },
         "name": "",
         "orientation": "v",
         "showlegend": false,
         "type": "histogram",
         "x": {
          "bdata": "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",
          "dtype": "f8"
         },
         "xaxis": "x",
         "yaxis": "y"
        }
       ],
       "layout": {
        "barmode": "relative",
        "legend": {
         "tracegroupgap": 0
        },
        "template": {
         "data": {
          "bar": [
           {
            "error_x": {
             "color": "#2a3f5f"
            },
            "error_y": {
             "color": "#2a3f5f"
            },
            "marker": {
             "line": {
              "color": "#E5ECF6",
              "width": 0.5
             },
             "pattern": {
              "fillmode": "overlay",
              "size": 10,
              "solidity": 0.2
             }
            },
            "type": "bar"
           }
          ],
          "barpolar": [
           {
            "marker": {
             "line": {
              "color": "#E5ECF6",
              "width": 0.5
             },
             "pattern": {
              "fillmode": "overlay",
              "size": 10,
              "solidity": 0.2
             }
            },
            "type": "barpolar"
           }
          ],
          "carpet": [
           {
            "aaxis": {
             "endlinecolor": "#2a3f5f",
             "gridcolor": "white",
             "linecolor": "white",
             "minorgridcolor": "white",
             "startlinecolor": "#2a3f5f"
            },
            "baxis": {
             "endlinecolor": "#2a3f5f",
             "gridcolor": "white",
             "linecolor": "white",
             "minorgridcolor": "white",
             "startlinecolor": "#2a3f5f"
            },
            "type": "carpet"
           }
          ],
          "choropleth": [
           {
            "colorbar": {
             "outlinewidth": 0,
             "ticks": ""
            },
            "type": "choropleth"
           }
          ],
          "contour": [
           {
            "colorbar": {
             "outlinewidth": 0,
             "ticks": ""
            },
            "colorscale": [
             [
              0,
              "#0d0887"
             ],
             [
              0.1111111111111111,
              "#46039f"
             ],
             [
              0.2222222222222222,
              "#7201a8"
             ],
             [
              0.3333333333333333,
              "#9c179e"
             ],
             [
              0.4444444444444444,
              "#bd3786"
             ],
             [
              0.5555555555555556,
              "#d8576b"
             ],
             [
              0.6666666666666666,
              "#ed7953"
             ],
             [
              0.7777777777777778,
              "#fb9f3a"
             ],
             [
              0.8888888888888888,
              "#fdca26"
             ],
             [
              1,
              "#f0f921"
             ]
            ],
            "type": "contour"
           }
          ],
          "contourcarpet": [
           {
            "colorbar": {
             "outlinewidth": 0,
             "ticks": ""
            },
            "type": "contourcarpet"
           }
          ],
          "heatmap": [
           {
            "colorbar": {
             "outlinewidth": 0,
             "ticks": ""
            },
            "colorscale": [
             [
              0,
              "#0d0887"
             ],
             [
              0.1111111111111111,
              "#46039f"
             ],
             [
              0.2222222222222222,
              "#7201a8"
             ],
             [
              0.3333333333333333,
              "#9c179e"
             ],
             [
              0.4444444444444444,
              "#bd3786"
             ],
             [
              0.5555555555555556,
              "#d8576b"
             ],
             [
              0.6666666666666666,
              "#ed7953"
             ],
             [
              0.7777777777777778,
              "#fb9f3a"
             ],
             [
              0.8888888888888888,
              "#fdca26"
             ],
             [
              1,
              "#f0f921"
             ]
            ],
            "type": "heatmap"
           }
          ],
          "histogram": [
           {
            "marker": {
             "pattern": {
              "fillmode": "overlay",
              "size": 10,
              "solidity": 0.2
             }
            },
            "type": "histogram"
           }
          ],
          "histogram2d": [
           {
            "colorbar": {
             "outlinewidth": 0,
             "ticks": ""
            },
            "colorscale": [
             [
              0,
              "#0d0887"
             ],
             [
              0.1111111111111111,
              "#46039f"
             ],
             [
              0.2222222222222222,
              "#7201a8"
             ],
             [
              0.3333333333333333,
              "#9c179e"
             ],
             [
              0.4444444444444444,
              "#bd3786"
             ],
             [
              0.5555555555555556,
              "#d8576b"
             ],
             [
              0.6666666666666666,
              "#ed7953"
             ],
             [
              0.7777777777777778,
              "#fb9f3a"
             ],
             [
              0.8888888888888888,
              "#fdca26"
             ],
             [
              1,
              "#f0f921"
             ]
            ],
            "type": "histogram2d"
           }
          ],
          "histogram2dcontour": [
           {
            "colorbar": {
             "outlinewidth": 0,
             "ticks": ""
            },
            "colorscale": [
             [
              0,
              "#0d0887"
             ],
             [
              0.1111111111111111,
              "#46039f"
             ],
             [
              0.2222222222222222,
              "#7201a8"
             ],
             [
              0.3333333333333333,
              "#9c179e"
             ],
             [
              0.4444444444444444,
              "#bd3786"
             ],
             [
              0.5555555555555556,
              "#d8576b"
             ],
             [
              0.6666666666666666,
              "#ed7953"
             ],
             [
              0.7777777777777778,
              "#fb9f3a"
             ],
             [
              0.8888888888888888,
              "#fdca26"
             ],
             [
              1,
              "#f0f921"
             ]
            ],
            "type": "histogram2dcontour"
           }
          ],
          "mesh3d": [
           {
            "colorbar": {
             "outlinewidth": 0,
             "ticks": ""
            },
            "type": "mesh3d"
           }
          ],
          "parcoords": [
           {
            "line": {
             "colorbar": {
              "outlinewidth": 0,
              "ticks": ""
             }
            },
            "type": "parcoords"
           }
          ],
          "pie": [
           {
            "automargin": true,
            "type": "pie"
           }
          ],
          "scatter": [
           {
            "fillpattern": {
             "fillmode": "overlay",
             "size": 10,
             "solidity": 0.2
            },
            "type": "scatter"
           }
          ],
          "scatter3d": [
           {
            "line": {
             "colorbar": {
              "outlinewidth": 0,
              "ticks": ""
             }
            },
            "marker": {
             "colorbar": {
              "outlinewidth": 0,
              "ticks": ""
             }
            },
            "type": "scatter3d"
           }
          ],
          "scattercarpet": [
           {
            "marker": {
             "colorbar": {
              "outlinewidth": 0,
              "ticks": ""
             }
            },
            "type": "scattercarpet"
           }
          ],
          "scattergeo": [
           {
            "marker": {
             "colorbar": {
              "outlinewidth": 0,
              "ticks": ""
             }
            },
            "type": "scattergeo"
           }
          ],
          "scattergl": [
           {
            "marker": {
             "colorbar": {
              "outlinewidth": 0,
              "ticks": ""
             }
            },
            "type": "scattergl"
           }
          ],
          "scattermap": [
           {
            "marker": {
             "colorbar": {
              "outlinewidth": 0,
              "ticks": ""
             }
            },
            "type": "scattermap"
           }
          ],
          "scattermapbox": [
           {
            "marker": {
             "colorbar": {
              "outlinewidth": 0,
              "ticks": ""
             }
            },
            "type": "scattermapbox"
           }
          ],
          "scatterpolar": [
           {
            "marker": {
             "colorbar": {
              "outlinewidth": 0,
              "ticks": ""
             }
            },
            "type": "scatterpolar"
           }
          ],
          "scatterpolargl": [
           {
            "marker": {
             "colorbar": {
              "outlinewidth": 0,
              "ticks": ""
             }
            },
            "type": "scatterpolargl"
           }
          ],
          "scatterternary": [
           {
            "marker": {
             "colorbar": {
              "outlinewidth": 0,
              "ticks": ""
             }
            },
            "type": "scatterternary"
           }
          ],
          "surface": [
           {
            "colorbar": {
             "outlinewidth": 0,
             "ticks": ""
            },
            "colorscale": [
             [
              0,
              "#0d0887"
             ],
             [
              0.1111111111111111,
              "#46039f"
             ],
             [
              0.2222222222222222,
              "#7201a8"
             ],
             [
              0.3333333333333333,
              "#9c179e"
             ],
             [
              0.4444444444444444,
              "#bd3786"
             ],
             [
              0.5555555555555556,
              "#d8576b"
             ],
             [
              0.6666666666666666,
              "#ed7953"
             ],
             [
              0.7777777777777778,
              "#fb9f3a"
             ],
             [
              0.8888888888888888,
              "#fdca26"
             ],
             [
              1,
              "#f0f921"
             ]
            ],
            "type": "surface"
           }
          ],
          "table": [
           {
            "cells": {
             "fill": {
              "color": "#EBF0F8"
             },
             "line": {
              "color": "white"
             }
            },
            "header": {
             "fill": {
              "color": "#C8D4E3"
             },
             "line": {
              "color": "white"
             }
            },
            "type": "table"
           }
          ]
         },
         "layout": {
          "annotationdefaults": {
           "arrowcolor": "#2a3f5f",
           "arrowhead": 0,
           "arrowwidth": 1
          },
          "autotypenumbers": "strict",
          "coloraxis": {
           "colorbar": {
            "outlinewidth": 0,
            "ticks": ""
           }
          },
          "colorscale": {
           "diverging": [
            [
             0,
             "#8e0152"
            ],
            [
             0.1,
             "#c51b7d"
            ],
            [
             0.2,
             "#de77ae"
            ],
            [
             0.3,
             "#f1b6da"
            ],
            [
             0.4,
             "#fde0ef"
            ],
            [
             0.5,
             "#f7f7f7"
            ],
            [
             0.6,
             "#e6f5d0"
            ],
            [
             0.7,
             "#b8e186"
            ],
            [
             0.8,
             "#7fbc41"
            ],
            [
             0.9,
             "#4d9221"
            ],
            [
             1,
             "#276419"
            ]
           ],
           "sequential": [
            [
             0,
             "#0d0887"
            ],
            [
             0.1111111111111111,
             "#46039f"
            ],
            [
             0.2222222222222222,
             "#7201a8"
            ],
            [
             0.3333333333333333,
             "#9c179e"
            ],
            [
             0.4444444444444444,
             "#bd3786"
            ],
            [
             0.5555555555555556,
             "#d8576b"
            ],
            [
             0.6666666666666666,
             "#ed7953"
            ],
            [
             0.7777777777777778,
             "#fb9f3a"
            ],
            [
             0.8888888888888888,
             "#fdca26"
            ],
            [
             1,
             "#f0f921"
            ]
           ],
           "sequentialminus": [
            [
             0,
             "#0d0887"
            ],
            [
             0.1111111111111111,
             "#46039f"
            ],
            [
             0.2222222222222222,
             "#7201a8"
            ],
            [
             0.3333333333333333,
             "#9c179e"
            ],
            [
             0.4444444444444444,
             "#bd3786"
            ],
            [
             0.5555555555555556,
             "#d8576b"
            ],
            [
             0.6666666666666666,
             "#ed7953"
            ],
            [
             0.7777777777777778,
             "#fb9f3a"
            ],
            [
             0.8888888888888888,
             "#fdca26"
            ],
            [
             1,
             "#f0f921"
            ]
           ]
          },
          "colorway": [
           "#636efa",
           "#EF553B",
           "#00cc96",
           "#ab63fa",
           "#FFA15A",
           "#19d3f3",
           "#FF6692",
           "#B6E880",
           "#FF97FF",
           "#FECB52"
          ],
          "font": {
           "color": "#2a3f5f"
          },
          "geo": {
           "bgcolor": "white",
           "lakecolor": "white",
           "landcolor": "#E5ECF6",
           "showlakes": true,
           "showland": true,
           "subunitcolor": "white"
          },
          "hoverlabel": {
           "align": "left"
          },
          "hovermode": "closest",
          "mapbox": {
           "style": "light"
          },
          "paper_bgcolor": "white",
          "plot_bgcolor": "#E5ECF6",
          "polar": {
           "angularaxis": {
            "gridcolor": "white",
            "linecolor": "white",
            "ticks": ""
           },
           "bgcolor": "#E5ECF6",
           "radialaxis": {
            "gridcolor": "white",
            "linecolor": "white",
            "ticks": ""
           }
          },
          "scene": {
           "xaxis": {
            "backgroundcolor": "#E5ECF6",
            "gridcolor": "white",
            "gridwidth": 2,
            "linecolor": "white",
            "showbackground": true,
            "ticks": "",
            "zerolinecolor": "white"
           },
           "yaxis": {
            "backgroundcolor": "#E5ECF6",
            "gridcolor": "white",
            "gridwidth": 2,
            "linecolor": "white",
            "showbackground": true,
            "ticks": "",
            "zerolinecolor": "white"
           },
           "zaxis": {
            "backgroundcolor": "#E5ECF6",
            "gridcolor": "white",
            "gridwidth": 2,
            "linecolor": "white",
            "showbackground": true,
            "ticks": "",
            "zerolinecolor": "white"
           }
          },
          "shapedefaults": {
           "line": {
            "color": "#2a3f5f"
           }
          },
          "ternary": {
           "aaxis": {
            "gridcolor": "white",
            "linecolor": "white",
            "ticks": ""
           },
           "baxis": {
            "gridcolor": "white",
            "linecolor": "white",
            "ticks": ""
           },
           "bgcolor": "#E5ECF6",
           "caxis": {
            "gridcolor": "white",
            "linecolor": "white",
            "ticks": ""
           }
          },
          "title": {
           "x": 0.05
          },
          "xaxis": {
           "automargin": true,
           "gridcolor": "white",
           "linecolor": "white",
           "ticks": "",
           "title": {
            "standoff": 15
           },
           "zerolinecolor": "white",
           "zerolinewidth": 2
          },
          "yaxis": {
           "automargin": true,
           "gridcolor": "white",
           "linecolor": "white",
           "ticks": "",
           "title": {
            "standoff": 15
           },
           "zerolinecolor": "white",
           "zerolinewidth": 2
          }
         }
        },
        "title": {
         "text": "Distribution of Primary Male enrollment %"
        },
        "xaxis": {
         "anchor": "y",
         "domain": [
          0,
          1
         ],
         "title": {
          "text": "Primary Male enrollment %"
         }
        },
        "yaxis": {
         "anchor": "x",
         "domain": [
          0,
          1
         ],
         "title": {
          "text": "count"
         }
        }
       }
      }
     },
     "metadata": {},
     "output_type": "display_data"
    },
    {
     "data": {
      "application/vnd.plotly.v1+json": {
       "config": {
        "plotlyServerURL": "https://plot.ly"
       },
       "data": [
        {
         "bingroup": "x",
         "hovertemplate": "Primary female enrollment %=%{x}<br>count=%{y}<extra></extra>",
         "legendgroup": "",
         "marker": {
          "color": "#636efa",
          "pattern": {
           "shape": ""
          }
         },
         "name": "",
         "orientation": "v",
         "showlegend": false,
         "type": "histogram",
         "x": {
          "bdata": "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",
          "dtype": "f8"
         },
         "xaxis": "x",
         "yaxis": "y"
        }
       ],
       "layout": {
        "barmode": "relative",
        "legend": {
         "tracegroupgap": 0
        },
        "template": {
         "data": {
          "bar": [
           {
            "error_x": {
             "color": "#2a3f5f"
            },
            "error_y": {
             "color": "#2a3f5f"
            },
            "marker": {
             "line": {
              "color": "#E5ECF6",
              "width": 0.5
             },
             "pattern": {
              "fillmode": "overlay",
              "size": 10,
              "solidity": 0.2
             }
            },
            "type": "bar"
           }
          ],
          "barpolar": [
           {
            "marker": {
             "line": {
              "color": "#E5ECF6",
              "width": 0.5
             },
             "pattern": {
              "fillmode": "overlay",
              "size": 10,
              "solidity": 0.2
             }
            },
            "type": "barpolar"
           }
          ],
          "carpet": [
           {
            "aaxis": {
             "endlinecolor": "#2a3f5f",
             "gridcolor": "white",
             "linecolor": "white",
             "minorgridcolor": "white",
             "startlinecolor": "#2a3f5f"
            },
            "baxis": {
             "endlinecolor": "#2a3f5f",
             "gridcolor": "white",
             "linecolor": "white",
             "minorgridcolor": "white",
             "startlinecolor": "#2a3f5f"
            },
            "type": "carpet"
           }
          ],
          "choropleth": [
           {
            "colorbar": {
             "outlinewidth": 0,
             "ticks": ""
            },
            "type": "choropleth"
           }
          ],
          "contour": [
           {
            "colorbar": {
             "outlinewidth": 0,
             "ticks": ""
            },
            "colorscale": [
             [
              0,
              "#0d0887"
             ],
             [
              0.1111111111111111,
              "#46039f"
             ],
             [
              0.2222222222222222,
              "#7201a8"
             ],
             [
              0.3333333333333333,
              "#9c179e"
             ],
             [
              0.4444444444444444,
              "#bd3786"
             ],
             [
              0.5555555555555556,
              "#d8576b"
             ],
             [
              0.6666666666666666,
              "#ed7953"
             ],
             [
              0.7777777777777778,
              "#fb9f3a"
             ],
             [
              0.8888888888888888,
              "#fdca26"
             ],
             [
              1,
              "#f0f921"
             ]
            ],
            "type": "contour"
           }
          ],
          "contourcarpet": [
           {
            "colorbar": {
             "outlinewidth": 0,
             "ticks": ""
            },
            "type": "contourcarpet"
           }
          ],
          "heatmap": [
           {
            "colorbar": {
             "outlinewidth": 0,
             "ticks": ""
            },
            "colorscale": [
             [
              0,
              "#0d0887"
             ],
             [
              0.1111111111111111,
              "#46039f"
             ],
             [
              0.2222222222222222,
              "#7201a8"
             ],
             [
              0.3333333333333333,
              "#9c179e"
             ],
             [
              0.4444444444444444,
              "#bd3786"
             ],
             [
              0.5555555555555556,
              "#d8576b"
             ],
             [
              0.6666666666666666,
              "#ed7953"
             ],
             [
              0.7777777777777778,
              "#fb9f3a"
             ],
             [
              0.8888888888888888,
              "#fdca26"
             ],
             [
              1,
              "#f0f921"
             ]
            ],
            "type": "heatmap"
           }
          ],
          "histogram": [
           {
            "marker": {
             "pattern": {
              "fillmode": "overlay",
              "size": 10,
              "solidity": 0.2
             }
            },
            "type": "histogram"
           }
          ],
          "histogram2d": [
           {
            "colorbar": {
             "outlinewidth": 0,
             "ticks": ""
            },
            "colorscale": [
             [
              0,
              "#0d0887"
             ],
             [
              0.1111111111111111,
              "#46039f"
             ],
             [
              0.2222222222222222,
              "#7201a8"
             ],
             [
              0.3333333333333333,
              "#9c179e"
             ],
             [
              0.4444444444444444,
              "#bd3786"
             ],
             [
              0.5555555555555556,
              "#d8576b"
             ],
             [
              0.6666666666666666,
              "#ed7953"
             ],
             [
              0.7777777777777778,
              "#fb9f3a"
             ],
             [
              0.8888888888888888,
              "#fdca26"
             ],
             [
              1,
              "#f0f921"
             ]
            ],
            "type": "histogram2d"
           }
          ],
          "histogram2dcontour": [
           {
            "colorbar": {
             "outlinewidth": 0,
             "ticks": ""
            },
            "colorscale": [
             [
              0,
              "#0d0887"
             ],
             [
              0.1111111111111111,
              "#46039f"
             ],
             [
              0.2222222222222222,
              "#7201a8"
             ],
             [
              0.3333333333333333,
              "#9c179e"
             ],
             [
              0.4444444444444444,
              "#bd3786"
             ],
             [
              0.5555555555555556,
              "#d8576b"
             ],
             [
              0.6666666666666666,
              "#ed7953"
             ],
             [
              0.7777777777777778,
              "#fb9f3a"
             ],
             [
              0.8888888888888888,
              "#fdca26"
             ],
             [
              1,
              "#f0f921"
             ]
            ],
            "type": "histogram2dcontour"
           }
          ],
          "mesh3d": [
           {
            "colorbar": {
             "outlinewidth": 0,
             "ticks": ""
            },
            "type": "mesh3d"
           }
          ],
          "parcoords": [
           {
            "line": {
             "colorbar": {
              "outlinewidth": 0,
              "ticks": ""
             }
            },
            "type": "parcoords"
           }
          ],
          "pie": [
           {
            "automargin": true,
            "type": "pie"
           }
          ],
          "scatter": [
           {
            "fillpattern": {
             "fillmode": "overlay",
             "size": 10,
             "solidity": 0.2
            },
            "type": "scatter"
           }
          ],
          "scatter3d": [
           {
            "line": {
             "colorbar": {
              "outlinewidth": 0,
              "ticks": ""
             }
            },
            "marker": {
             "colorbar": {
              "outlinewidth": 0,
              "ticks": ""
             }
            },
            "type": "scatter3d"
           }
          ],
          "scattercarpet": [
           {
            "marker": {
             "colorbar": {
              "outlinewidth": 0,
              "ticks": ""
             }
            },
            "type": "scattercarpet"
           }
          ],
          "scattergeo": [
           {
            "marker": {
             "colorbar": {
              "outlinewidth": 0,
              "ticks": ""
             }
            },
            "type": "scattergeo"
           }
          ],
          "scattergl": [
           {
            "marker": {
             "colorbar": {
              "outlinewidth": 0,
              "ticks": ""
             }
            },
            "type": "scattergl"
           }
          ],
          "scattermap": [
           {
            "marker": {
             "colorbar": {
              "outlinewidth": 0,
              "ticks": ""
             }
            },
            "type": "scattermap"
           }
          ],
          "scattermapbox": [
           {
            "marker": {
             "colorbar": {
              "outlinewidth": 0,
              "ticks": ""
             }
            },
            "type": "scattermapbox"
           }
          ],
          "scatterpolar": [
           {
            "marker": {
             "colorbar": {
              "outlinewidth": 0,
              "ticks": ""
             }
            },
            "type": "scatterpolar"
           }
          ],
          "scatterpolargl": [
           {
            "marker": {
             "colorbar": {
              "outlinewidth": 0,
              "ticks": ""
             }
            },
            "type": "scatterpolargl"
           }
          ],
          "scatterternary": [
           {
            "marker": {
             "colorbar": {
              "outlinewidth": 0,
              "ticks": ""
             }
            },
            "type": "scatterternary"
           }
          ],
          "surface": [
           {
            "colorbar": {
             "outlinewidth": 0,
             "ticks": ""
            },
            "colorscale": [
             [
              0,
              "#0d0887"
             ],
             [
              0.1111111111111111,
              "#46039f"
             ],
             [
              0.2222222222222222,
              "#7201a8"
             ],
             [
              0.3333333333333333,
              "#9c179e"
             ],
             [
              0.4444444444444444,
              "#bd3786"
             ],
             [
              0.5555555555555556,
              "#d8576b"
             ],
             [
              0.6666666666666666,
              "#ed7953"
             ],
             [
              0.7777777777777778,
              "#fb9f3a"
             ],
             [
              0.8888888888888888,
              "#fdca26"
             ],
             [
              1,
              "#f0f921"
             ]
            ],
            "type": "surface"
           }
          ],
          "table": [
           {
            "cells": {
             "fill": {
              "color": "#EBF0F8"
             },
             "line": {
              "color": "white"
             }
            },
            "header": {
             "fill": {
              "color": "#C8D4E3"
             },
             "line": {
              "color": "white"
             }
            },
            "type": "table"
           }
          ]
         },
         "layout": {
          "annotationdefaults": {
           "arrowcolor": "#2a3f5f",
           "arrowhead": 0,
           "arrowwidth": 1
          },
          "autotypenumbers": "strict",
          "coloraxis": {
           "colorbar": {
            "outlinewidth": 0,
            "ticks": ""
           }
          },
          "colorscale": {
           "diverging": [
            [
             0,
             "#8e0152"
            ],
            [
             0.1,
             "#c51b7d"
            ],
            [
             0.2,
             "#de77ae"
            ],
            [
             0.3,
             "#f1b6da"
            ],
            [
             0.4,
             "#fde0ef"
            ],
            [
             0.5,
             "#f7f7f7"
            ],
            [
             0.6,
             "#e6f5d0"
            ],
            [
             0.7,
             "#b8e186"
            ],
            [
             0.8,
             "#7fbc41"
            ],
            [
             0.9,
             "#4d9221"
            ],
            [
             1,
             "#276419"
            ]
           ],
           "sequential": [
            [
             0,
             "#0d0887"
            ],
            [
             0.1111111111111111,
             "#46039f"
            ],
            [
             0.2222222222222222,
             "#7201a8"
            ],
            [
             0.3333333333333333,
             "#9c179e"
            ],
            [
             0.4444444444444444,
             "#bd3786"
            ],
            [
             0.5555555555555556,
             "#d8576b"
            ],
            [
             0.6666666666666666,
             "#ed7953"
            ],
            [
             0.7777777777777778,
             "#fb9f3a"
            ],
            [
             0.8888888888888888,
             "#fdca26"
            ],
            [
             1,
             "#f0f921"
            ]
           ],
           "sequentialminus": [
            [
             0,
             "#0d0887"
            ],
            [
             0.1111111111111111,
             "#46039f"
            ],
            [
             0.2222222222222222,
             "#7201a8"
            ],
            [
             0.3333333333333333,
             "#9c179e"
            ],
            [
             0.4444444444444444,
             "#bd3786"
            ],
            [
             0.5555555555555556,
             "#d8576b"
            ],
            [
             0.6666666666666666,
             "#ed7953"
            ],
            [
             0.7777777777777778,
             "#fb9f3a"
            ],
            [
             0.8888888888888888,
             "#fdca26"
            ],
            [
             1,
             "#f0f921"
            ]
           ]
          },
          "colorway": [
           "#636efa",
           "#EF553B",
           "#00cc96",
           "#ab63fa",
           "#FFA15A",
           "#19d3f3",
           "#FF6692",
           "#B6E880",
           "#FF97FF",
           "#FECB52"
          ],
          "font": {
           "color": "#2a3f5f"
          },
          "geo": {
           "bgcolor": "white",
           "lakecolor": "white",
           "landcolor": "#E5ECF6",
           "showlakes": true,
           "showland": true,
           "subunitcolor": "white"
          },
          "hoverlabel": {
           "align": "left"
          },
          "hovermode": "closest",
          "mapbox": {
           "style": "light"
          },
          "paper_bgcolor": "white",
          "plot_bgcolor": "#E5ECF6",
          "polar": {
           "angularaxis": {
            "gridcolor": "white",
            "linecolor": "white",
            "ticks": ""
           },
           "bgcolor": "#E5ECF6",
           "radialaxis": {
            "gridcolor": "white",
            "linecolor": "white",
            "ticks": ""
           }
          },
          "scene": {
           "xaxis": {
            "backgroundcolor": "#E5ECF6",
            "gridcolor": "white",
            "gridwidth": 2,
            "linecolor": "white",
            "showbackground": true,
            "ticks": "",
            "zerolinecolor": "white"
           },
           "yaxis": {
            "backgroundcolor": "#E5ECF6",
            "gridcolor": "white",
            "gridwidth": 2,
            "linecolor": "white",
            "showbackground": true,
            "ticks": "",
            "zerolinecolor": "white"
           },
           "zaxis": {
            "backgroundcolor": "#E5ECF6",
            "gridcolor": "white",
            "gridwidth": 2,
            "linecolor": "white",
            "showbackground": true,
            "ticks": "",
            "zerolinecolor": "white"
           }
          },
          "shapedefaults": {
           "line": {
            "color": "#2a3f5f"
           }
          },
          "ternary": {
           "aaxis": {
            "gridcolor": "white",
            "linecolor": "white",
            "ticks": ""
           },
           "baxis": {
            "gridcolor": "white",
            "linecolor": "white",
            "ticks": ""
           },
           "bgcolor": "#E5ECF6",
           "caxis": {
            "gridcolor": "white",
            "linecolor": "white",
            "ticks": ""
           }
          },
          "title": {
           "x": 0.05
          },
          "xaxis": {
           "automargin": true,
           "gridcolor": "white",
           "linecolor": "white",
           "ticks": "",
           "title": {
            "standoff": 15
           },
           "zerolinecolor": "white",
           "zerolinewidth": 2
          },
          "yaxis": {
           "automargin": true,
           "gridcolor": "white",
           "linecolor": "white",
           "ticks": "",
           "title": {
            "standoff": 15
           },
           "zerolinecolor": "white",
           "zerolinewidth": 2
          }
         }
        },
        "title": {
         "text": "Distribution of Primary female enrollment %"
        },
        "xaxis": {
         "anchor": "y",
         "domain": [
          0,
          1
         ],
         "title": {
          "text": "Primary female enrollment %"
         }
        },
        "yaxis": {
         "anchor": "x",
         "domain": [
          0,
          1
         ],
         "title": {
          "text": "count"
         }
        }
       }
      }
     },
     "metadata": {},
     "output_type": "display_data"
    },
    {
     "data": {
      "application/vnd.plotly.v1+json": {
       "config": {
        "plotlyServerURL": "https://plot.ly"
       },
       "data": [
        {
         "bingroup": "x",
         "hovertemplate": "Total Secondary male enrollment %=%{x}<br>count=%{y}<extra></extra>",
         "legendgroup": "",
         "marker": {
          "color": "#636efa",
          "pattern": {
           "shape": ""
          }
         },
         "name": "",
         "orientation": "v",
         "showlegend": false,
         "type": "histogram",
         "x": {
          "bdata": "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",
          "dtype": "f8"
         },
         "xaxis": "x",
         "yaxis": "y"
        }
       ],
       "layout": {
        "barmode": "relative",
        "legend": {
         "tracegroupgap": 0
        },
        "template": {
         "data": {
          "bar": [
           {
            "error_x": {
             "color": "#2a3f5f"
            },
            "error_y": {
             "color": "#2a3f5f"
            },
            "marker": {
             "line": {
              "color": "#E5ECF6",
              "width": 0.5
             },
             "pattern": {
              "fillmode": "overlay",
              "size": 10,
              "solidity": 0.2
             }
            },
            "type": "bar"
           }
          ],
          "barpolar": [
           {
            "marker": {
             "line": {
              "color": "#E5ECF6",
              "width": 0.5
             },
             "pattern": {
              "fillmode": "overlay",
              "size": 10,
              "solidity": 0.2
             }
            },
            "type": "barpolar"
           }
          ],
          "carpet": [
           {
            "aaxis": {
             "endlinecolor": "#2a3f5f",
             "gridcolor": "white",
             "linecolor": "white",
             "minorgridcolor": "white",
             "startlinecolor": "#2a3f5f"
            },
            "baxis": {
             "endlinecolor": "#2a3f5f",
             "gridcolor": "white",
             "linecolor": "white",
             "minorgridcolor": "white",
             "startlinecolor": "#2a3f5f"
            },
            "type": "carpet"
           }
          ],
          "choropleth": [
           {
            "colorbar": {
             "outlinewidth": 0,
             "ticks": ""
            },
            "type": "choropleth"
           }
          ],
          "contour": [
           {
            "colorbar": {
             "outlinewidth": 0,
             "ticks": ""
            },
            "colorscale": [
             [
              0,
              "#0d0887"
             ],
             [
              0.1111111111111111,
              "#46039f"
             ],
             [
              0.2222222222222222,
              "#7201a8"
             ],
             [
              0.3333333333333333,
              "#9c179e"
             ],
             [
              0.4444444444444444,
              "#bd3786"
             ],
             [
              0.5555555555555556,
              "#d8576b"
             ],
             [
              0.6666666666666666,
              "#ed7953"
             ],
             [
              0.7777777777777778,
              "#fb9f3a"
             ],
             [
              0.8888888888888888,
              "#fdca26"
             ],
             [
              1,
              "#f0f921"
             ]
            ],
            "type": "contour"
           }
          ],
          "contourcarpet": [
           {
            "colorbar": {
             "outlinewidth": 0,
             "ticks": ""
            },
            "type": "contourcarpet"
           }
          ],
          "heatmap": [
           {
            "colorbar": {
             "outlinewidth": 0,
             "ticks": ""
            },
            "colorscale": [
             [
              0,
              "#0d0887"
             ],
             [
              0.1111111111111111,
              "#46039f"
             ],
             [
              0.2222222222222222,
              "#7201a8"
             ],
             [
              0.3333333333333333,
              "#9c179e"
             ],
             [
              0.4444444444444444,
              "#bd3786"
             ],
             [
              0.5555555555555556,
              "#d8576b"
             ],
             [
              0.6666666666666666,
              "#ed7953"
             ],
             [
              0.7777777777777778,
              "#fb9f3a"
             ],
             [
              0.8888888888888888,
              "#fdca26"
             ],
             [
              1,
              "#f0f921"
             ]
            ],
            "type": "heatmap"
           }
          ],
          "histogram": [
           {
            "marker": {
             "pattern": {
              "fillmode": "overlay",
              "size": 10,
              "solidity": 0.2
             }
            },
            "type": "histogram"
           }
          ],
          "histogram2d": [
           {
            "colorbar": {
             "outlinewidth": 0,
             "ticks": ""
            },
            "colorscale": [
             [
              0,
              "#0d0887"
             ],
             [
              0.1111111111111111,
              "#46039f"
             ],
             [
              0.2222222222222222,
              "#7201a8"
             ],
             [
              0.3333333333333333,
              "#9c179e"
             ],
             [
              0.4444444444444444,
              "#bd3786"
             ],
             [
              0.5555555555555556,
              "#d8576b"
             ],
             [
              0.6666666666666666,
              "#ed7953"
             ],
             [
              0.7777777777777778,
              "#fb9f3a"
             ],
             [
              0.8888888888888888,
              "#fdca26"
             ],
             [
              1,
              "#f0f921"
             ]
            ],
            "type": "histogram2d"
           }
          ],
          "histogram2dcontour": [
           {
            "colorbar": {
             "outlinewidth": 0,
             "ticks": ""
            },
            "colorscale": [
             [
              0,
              "#0d0887"
             ],
             [
              0.1111111111111111,
              "#46039f"
             ],
             [
              0.2222222222222222,
              "#7201a8"
             ],
             [
              0.3333333333333333,
              "#9c179e"
             ],
             [
              0.4444444444444444,
              "#bd3786"
             ],
             [
              0.5555555555555556,
              "#d8576b"
             ],
             [
              0.6666666666666666,
              "#ed7953"
             ],
             [
              0.7777777777777778,
              "#fb9f3a"
             ],
             [
              0.8888888888888888,
              "#fdca26"
             ],
             [
              1,
              "#f0f921"
             ]
            ],
            "type": "histogram2dcontour"
           }
          ],
          "mesh3d": [
           {
            "colorbar": {
             "outlinewidth": 0,
             "ticks": ""
            },
            "type": "mesh3d"
           }
          ],
          "parcoords": [
           {
            "line": {
             "colorbar": {
              "outlinewidth": 0,
              "ticks": ""
             }
            },
            "type": "parcoords"
           }
          ],
          "pie": [
           {
            "automargin": true,
            "type": "pie"
           }
          ],
          "scatter": [
           {
            "fillpattern": {
             "fillmode": "overlay",
             "size": 10,
             "solidity": 0.2
            },
            "type": "scatter"
           }
          ],
          "scatter3d": [
           {
            "line": {
             "colorbar": {
              "outlinewidth": 0,
              "ticks": ""
             }
            },
            "marker": {
             "colorbar": {
              "outlinewidth": 0,
              "ticks": ""
             }
            },
            "type": "scatter3d"
           }
          ],
          "scattercarpet": [
           {
            "marker": {
             "colorbar": {
              "outlinewidth": 0,
              "ticks": ""
             }
            },
            "type": "scattercarpet"
           }
          ],
          "scattergeo": [
           {
            "marker": {
             "colorbar": {
              "outlinewidth": 0,
              "ticks": ""
             }
            },
            "type": "scattergeo"
           }
          ],
          "scattergl": [
           {
            "marker": {
             "colorbar": {
              "outlinewidth": 0,
              "ticks": ""
             }
            },
            "type": "scattergl"
           }
          ],
          "scattermap": [
           {
            "marker": {
             "colorbar": {
              "outlinewidth": 0,
              "ticks": ""
             }
            },
            "type": "scattermap"
           }
          ],
          "scattermapbox": [
           {
            "marker": {
             "colorbar": {
              "outlinewidth": 0,
              "ticks": ""
             }
            },
            "type": "scattermapbox"
           }
          ],
          "scatterpolar": [
           {
            "marker": {
             "colorbar": {
              "outlinewidth": 0,
              "ticks": ""
             }
            },
            "type": "scatterpolar"
           }
          ],
          "scatterpolargl": [
           {
            "marker": {
             "colorbar": {
              "outlinewidth": 0,
              "ticks": ""
             }
            },
            "type": "scatterpolargl"
           }
          ],
          "scatterternary": [
           {
            "marker": {
             "colorbar": {
              "outlinewidth": 0,
              "ticks": ""
             }
            },
            "type": "scatterternary"
           }
          ],
          "surface": [
           {
            "colorbar": {
             "outlinewidth": 0,
             "ticks": ""
            },
            "colorscale": [
             [
              0,
              "#0d0887"
             ],
             [
              0.1111111111111111,
              "#46039f"
             ],
             [
              0.2222222222222222,
              "#7201a8"
             ],
             [
              0.3333333333333333,
              "#9c179e"
             ],
             [
              0.4444444444444444,
              "#bd3786"
             ],
             [
              0.5555555555555556,
              "#d8576b"
             ],
             [
              0.6666666666666666,
              "#ed7953"
             ],
             [
              0.7777777777777778,
              "#fb9f3a"
             ],
             [
              0.8888888888888888,
              "#fdca26"
             ],
             [
              1,
              "#f0f921"
             ]
            ],
            "type": "surface"
           }
          ],
          "table": [
           {
            "cells": {
             "fill": {
              "color": "#EBF0F8"
             },
             "line": {
              "color": "white"
             }
            },
            "header": {
             "fill": {
              "color": "#C8D4E3"
             },
             "line": {
              "color": "white"
             }
            },
            "type": "table"
           }
          ]
         },
         "layout": {
          "annotationdefaults": {
           "arrowcolor": "#2a3f5f",
           "arrowhead": 0,
           "arrowwidth": 1
          },
          "autotypenumbers": "strict",
          "coloraxis": {
           "colorbar": {
            "outlinewidth": 0,
            "ticks": ""
           }
          },
          "colorscale": {
           "diverging": [
            [
             0,
             "#8e0152"
            ],
            [
             0.1,
             "#c51b7d"
            ],
            [
             0.2,
             "#de77ae"
            ],
            [
             0.3,
             "#f1b6da"
            ],
            [
             0.4,
             "#fde0ef"
            ],
            [
             0.5,
             "#f7f7f7"
            ],
            [
             0.6,
             "#e6f5d0"
            ],
            [
             0.7,
             "#b8e186"
            ],
            [
             0.8,
             "#7fbc41"
            ],
            [
             0.9,
             "#4d9221"
            ],
            [
             1,
             "#276419"
            ]
           ],
           "sequential": [
            [
             0,
             "#0d0887"
            ],
            [
             0.1111111111111111,
             "#46039f"
            ],
            [
             0.2222222222222222,
             "#7201a8"
            ],
            [
             0.3333333333333333,
             "#9c179e"
            ],
            [
             0.4444444444444444,
             "#bd3786"
            ],
            [
             0.5555555555555556,
             "#d8576b"
            ],
            [
             0.6666666666666666,
             "#ed7953"
            ],
            [
             0.7777777777777778,
             "#fb9f3a"
            ],
            [
             0.8888888888888888,
             "#fdca26"
            ],
            [
             1,
             "#f0f921"
            ]
           ],
           "sequentialminus": [
            [
             0,
             "#0d0887"
            ],
            [
             0.1111111111111111,
             "#46039f"
            ],
            [
             0.2222222222222222,
             "#7201a8"
            ],
            [
             0.3333333333333333,
             "#9c179e"
            ],
            [
             0.4444444444444444,
             "#bd3786"
            ],
            [
             0.5555555555555556,
             "#d8576b"
            ],
            [
             0.6666666666666666,
             "#ed7953"
            ],
            [
             0.7777777777777778,
             "#fb9f3a"
            ],
            [
             0.8888888888888888,
             "#fdca26"
            ],
            [
             1,
             "#f0f921"
            ]
           ]
          },
          "colorway": [
           "#636efa",
           "#EF553B",
           "#00cc96",
           "#ab63fa",
           "#FFA15A",
           "#19d3f3",
           "#FF6692",
           "#B6E880",
           "#FF97FF",
           "#FECB52"
          ],
          "font": {
           "color": "#2a3f5f"
          },
          "geo": {
           "bgcolor": "white",
           "lakecolor": "white",
           "landcolor": "#E5ECF6",
           "showlakes": true,
           "showland": true,
           "subunitcolor": "white"
          },
          "hoverlabel": {
           "align": "left"
          },
          "hovermode": "closest",
          "mapbox": {
           "style": "light"
          },
          "paper_bgcolor": "white",
          "plot_bgcolor": "#E5ECF6",
          "polar": {
           "angularaxis": {
            "gridcolor": "white",
            "linecolor": "white",
            "ticks": ""
           },
           "bgcolor": "#E5ECF6",
           "radialaxis": {
            "gridcolor": "white",
            "linecolor": "white",
            "ticks": ""
           }
          },
          "scene": {
           "xaxis": {
            "backgroundcolor": "#E5ECF6",
            "gridcolor": "white",
            "gridwidth": 2,
            "linecolor": "white",
            "showbackground": true,
            "ticks": "",
            "zerolinecolor": "white"
           },
           "yaxis": {
            "backgroundcolor": "#E5ECF6",
            "gridcolor": "white",
            "gridwidth": 2,
            "linecolor": "white",
            "showbackground": true,
            "ticks": "",
            "zerolinecolor": "white"
           },
           "zaxis": {
            "backgroundcolor": "#E5ECF6",
            "gridcolor": "white",
            "gridwidth": 2,
            "linecolor": "white",
            "showbackground": true,
            "ticks": "",
            "zerolinecolor": "white"
           }
          },
          "shapedefaults": {
           "line": {
            "color": "#2a3f5f"
           }
          },
          "ternary": {
           "aaxis": {
            "gridcolor": "white",
            "linecolor": "white",
            "ticks": ""
           },
           "baxis": {
            "gridcolor": "white",
            "linecolor": "white",
            "ticks": ""
           },
           "bgcolor": "#E5ECF6",
           "caxis": {
            "gridcolor": "white",
            "linecolor": "white",
            "ticks": ""
           }
          },
          "title": {
           "x": 0.05
          },
          "xaxis": {
           "automargin": true,
           "gridcolor": "white",
           "linecolor": "white",
           "ticks": "",
           "title": {
            "standoff": 15
           },
           "zerolinecolor": "white",
           "zerolinewidth": 2
          },
          "yaxis": {
           "automargin": true,
           "gridcolor": "white",
           "linecolor": "white",
           "ticks": "",
           "title": {
            "standoff": 15
           },
           "zerolinecolor": "white",
           "zerolinewidth": 2
          }
         }
        },
        "title": {
         "text": "Distribution of Total Secondary male enrollment %"
        },
        "xaxis": {
         "anchor": "y",
         "domain": [
          0,
          1
         ],
         "title": {
          "text": "Total Secondary male enrollment %"
         }
        },
        "yaxis": {
         "anchor": "x",
         "domain": [
          0,
          1
         ],
         "title": {
          "text": "count"
         }
        }
       }
      }
     },
     "metadata": {},
     "output_type": "display_data"
    }
   ],
   "source": [
    "import plotly.express as px\n",
    "import numpy as np\n",
    "\n",
    "key_vars = [\n",
    "    'Primary Male enrollment %', 'Primary female enrollment %',\n",
    "    'Total Secondary male enrollment %', 'Total secondary female enrollment %',\n",
    "    'Government primary education expenditure %ge of GDP',\n",
    "    'Government Secondary education expenditure %ge of GDP', 'GDP per capita'\n",
    "]\n",
    "merged_data[key_vars] = merged_data[key_vars].apply(pd.to_numeric, errors='coerce')\n",
    "merged_data[key_vars] = merged_data[key_vars].replace('..', np.nan)                                                  \n",
    "print(merged_data[key_vars].describe())\n",
    "\n",
    "\n",
    "\n",
    "for var in key_vars[:3]:  # Limit to 3 for visualization brevity\n",
    "    fig = px.histogram(merged_data, x=var, title=f\"Distribution of {var}\")\n",
    "    fig.show()"
   ]
  },
  {
   "cell_type": "code",
   "execution_count": 146,
   "id": "7ceab34d",
   "metadata": {},
   "outputs": [
    {
     "name": "stdout",
     "output_type": "stream",
     "text": [
      "\n",
      "=== Correlation Matrix ===\n",
      "                                                    Primary Male enrollment %  \\\n",
      "Primary Male enrollment %                                            1.000000   \n",
      "Primary female enrollment %                                          0.922965   \n",
      "Total Secondary male enrollment %                                    0.587934   \n",
      "Total secondary female enrollment %                                  0.582753   \n",
      "Government primary education expenditure %ge of...                   0.230054   \n",
      "Government Secondary education expenditure %ge ...                   0.394698   \n",
      "GDP per capita                                                      -0.154792   \n",
      "\n",
      "                                                    Primary female enrollment %  \\\n",
      "Primary Male enrollment %                                              0.922965   \n",
      "Primary female enrollment %                                            1.000000   \n",
      "Total Secondary male enrollment %                                      0.669039   \n",
      "Total secondary female enrollment %                                    0.748432   \n",
      "Government primary education expenditure %ge of...                     0.311496   \n",
      "Government Secondary education expenditure %ge ...                     0.459770   \n",
      "GDP per capita                                                        -0.028465   \n",
      "\n",
      "                                                    Total Secondary male enrollment %  \\\n",
      "Primary Male enrollment %                                                    0.587934   \n",
      "Primary female enrollment %                                                  0.669039   \n",
      "Total Secondary male enrollment %                                            1.000000   \n",
      "Total secondary female enrollment %                                          0.920682   \n",
      "Government primary education expenditure %ge of...                           0.155841   \n",
      "Government Secondary education expenditure %ge ...                           0.562297   \n",
      "GDP per capita                                                               0.491102   \n",
      "\n",
      "                                                    Total secondary female enrollment %  \\\n",
      "Primary Male enrollment %                                                      0.582753   \n",
      "Primary female enrollment %                                                    0.748432   \n",
      "Total Secondary male enrollment %                                              0.920682   \n",
      "Total secondary female enrollment %                                            1.000000   \n",
      "Government primary education expenditure %ge of...                             0.208953   \n",
      "Government Secondary education expenditure %ge ...                             0.493996   \n",
      "GDP per capita                                                                 0.431767   \n",
      "\n",
      "                                                    Government primary education expenditure %ge of GDP  \\\n",
      "Primary Male enrollment %                                                                    0.230054     \n",
      "Primary female enrollment %                                                                  0.311496     \n",
      "Total Secondary male enrollment %                                                            0.155841     \n",
      "Total secondary female enrollment %                                                          0.208953     \n",
      "Government primary education expenditure %ge of...                                           1.000000     \n",
      "Government Secondary education expenditure %ge ...                                           0.503430     \n",
      "GDP per capita                                                                              -0.109196     \n",
      "\n",
      "                                                    Government Secondary education expenditure %ge of GDP  \\\n",
      "Primary Male enrollment %                                                                    0.394698       \n",
      "Primary female enrollment %                                                                  0.459770       \n",
      "Total Secondary male enrollment %                                                            0.562297       \n",
      "Total secondary female enrollment %                                                          0.493996       \n",
      "Government primary education expenditure %ge of...                                           0.503430       \n",
      "Government Secondary education expenditure %ge ...                                           1.000000       \n",
      "GDP per capita                                                                               0.216230       \n",
      "\n",
      "                                                    GDP per capita  \n",
      "Primary Male enrollment %                                -0.154792  \n",
      "Primary female enrollment %                              -0.028465  \n",
      "Total Secondary male enrollment %                         0.491102  \n",
      "Total secondary female enrollment %                       0.431767  \n",
      "Government primary education expenditure %ge of...       -0.109196  \n",
      "Government Secondary education expenditure %ge ...        0.216230  \n",
      "GDP per capita                                            1.000000  \n"
     ]
    }
   ],
   "source": [
    "# 3. Correlation Analysis\n",
    "print(\"\\n=== Correlation Matrix ===\")\n",
    "corr_matrix =merged_data[key_vars].corr()\n",
    "print(corr_matrix)\n",
    "\n",
    "# Plot correlation heatmap\n",
    "plt.figure(figsize=(10, 8))\n",
    "sns.heatmap(corr_matrix, annot=True, cmap='coolwarm', vmin=-1, vmax=1, center=0)\n",
    "plt.title('Correlation Matrix of Indicators')\n",
    "plt.tight_layout()\n",
    "plt.savefig('correlation_heatmap.png')\n",
    "plt.close()"
   ]
  },
  {
   "cell_type": "markdown",
   "id": "0a5fa7aa",
   "metadata": {},
   "source": [
    "# Analysis of the Correlation Matrix\n",
    "The correlation matrix shows Pearson correlation coefficients (ranging from -1 to 1) between pairs of indicators. Here’s a breakdown of key observations:\n",
    "\n",
    "# Strong Positive Correlations:\n",
    "Primary Male Enrollment % vs. Primary Female Enrollment % (0.923): Very strong positive correlation, suggesting that countries with high primary male enrollment also have high primary female enrollment, indicating similar access to primary education across genders.\n",
    "Total Secondary Male Enrollment % vs. Total Secondary Female Enrollment % (0.921): Similarly, secondary enrollment rates for males and females are highly correlated, suggesting gender parity in secondary education access in many regions.\n",
    "Primary Female Enrollment % vs. Total Secondary Female Enrollment % (0.748): Strong correlation, indicating that regions with high primary female enrollment tend to have high secondary female enrollment, suggesting continuity in female education.\n",
    "# Moderate Positive Correlations:\n",
    "Total Secondary Male Enrollment % vs. Government Secondary Education Expenditure % of GDP (0.562): Moderate correlation, suggesting that higher government spending on secondary education is associated with higher male secondary enrollment.\n",
    "Government Primary Education Expenditure % of GDP vs. Government Secondary Education Expenditure % of GDP (0.503): Moderate correlation, indicating that countries investing more in primary education also tend to invest in secondary education.\n",
    "GDP per Capita vs. Total Secondary Male/Female Enrollment % (0.491 and 0.432): Moderate positive correlation, suggesting wealthier countries (higher GDP per capita) tend to have higher secondary enrollment rates.\n",
    "# Weak or Negative Correlations:\n",
    "GDP per Capita vs. Primary Male/Female Enrollment % (-0.155 and -0.028): Weak negative or near-zero correlations, suggesting that GDP per capita has little to no association with primary enrollment rates. This could indicate that primary education is near-universal in many countries, regardless of wealth.\n",
    "Government Primary Education Expenditure % of GDP vs. Most Indicators: Weak correlations (e.g., 0.231 with Primary Male Enrollment %, 0.156 with Secondary Male Enrollment %), suggesting that primary education spending as a percentage of GDP has limited direct impact on enrollment rates, possibly due to other factors like infrastructure or policy.\n",
    "GDP per Capita vs. Government Primary Education Expenditure % of GDP (-0.109): Weak negative correlation, possibly indicating that wealthier countries spend a smaller percentage of GDP on primary education, perhaps due to larger GDPs or different funding priorities.\n",
    "# Key Insights:\n",
    "Gender parity is strong in both primary and secondary enrollment, as evidenced by high correlations between male and female metrics.\n",
    "Secondary enrollment is more strongly tied to GDP per capita and government secondary education spending than primary enrollment, possibly because secondary education is less universal and more resource-dependent.\n",
    "The weak correlation between government expenditure (% of GDP) and enrollment rates suggests that spending alone doesn’t guarantee higher enrollment; other factors (e.g., access, infrastructure, cultural factors) may play a role."
   ]
  },
  {
   "cell_type": "code",
   "execution_count": 147,
   "id": "c0a72637",
   "metadata": {},
   "outputs": [
    {
     "name": "stdout",
     "output_type": "stream",
     "text": [
      "\n",
      "=== Spearman Correlation Matrix ===\n",
      "                                                    Primary Male enrollment %  \\\n",
      "Primary Male enrollment %                                            1.000000   \n",
      "Primary female enrollment %                                          0.889933   \n",
      "Total Secondary male enrollment %                                    0.590867   \n",
      "Total secondary female enrollment %                                  0.584223   \n",
      "Government primary education expenditure %ge of...                   0.117431   \n",
      "Government Secondary education expenditure %ge ...                   0.360539   \n",
      "GDP per capita                                                       0.141091   \n",
      "\n",
      "                                                    Primary female enrollment %  \\\n",
      "Primary Male enrollment %                                              0.889933   \n",
      "Primary female enrollment %                                            1.000000   \n",
      "Total Secondary male enrollment %                                      0.684784   \n",
      "Total secondary female enrollment %                                    0.764981   \n",
      "Government primary education expenditure %ge of...                     0.265016   \n",
      "Government Secondary education expenditure %ge ...                     0.442608   \n",
      "GDP per capita                                                         0.256816   \n",
      "\n",
      "                                                    Total Secondary male enrollment %  \\\n",
      "Primary Male enrollment %                                                    0.590867   \n",
      "Primary female enrollment %                                                  0.684784   \n",
      "Total Secondary male enrollment %                                            1.000000   \n",
      "Total secondary female enrollment %                                          0.920656   \n",
      "Government primary education expenditure %ge of...                           0.120054   \n",
      "Government Secondary education expenditure %ge ...                           0.578261   \n",
      "GDP per capita                                                               0.467798   \n",
      "\n",
      "                                                    Total secondary female enrollment %  \\\n",
      "Primary Male enrollment %                                                      0.584223   \n",
      "Primary female enrollment %                                                    0.764981   \n",
      "Total Secondary male enrollment %                                              0.920656   \n",
      "Total secondary female enrollment %                                            1.000000   \n",
      "Government primary education expenditure %ge of...                             0.198580   \n",
      "Government Secondary education expenditure %ge ...                             0.464163   \n",
      "GDP per capita                                                                 0.488094   \n",
      "\n",
      "                                                    Government primary education expenditure %ge of GDP  \\\n",
      "Primary Male enrollment %                                                                    0.117431     \n",
      "Primary female enrollment %                                                                  0.265016     \n",
      "Total Secondary male enrollment %                                                            0.120054     \n",
      "Total secondary female enrollment %                                                          0.198580     \n",
      "Government primary education expenditure %ge of...                                           1.000000     \n",
      "Government Secondary education expenditure %ge ...                                           0.564231     \n",
      "GDP per capita                                                                              -0.183182     \n",
      "\n",
      "                                                    Government Secondary education expenditure %ge of GDP  \\\n",
      "Primary Male enrollment %                                                                    0.360539       \n",
      "Primary female enrollment %                                                                  0.442608       \n",
      "Total Secondary male enrollment %                                                            0.578261       \n",
      "Total secondary female enrollment %                                                          0.464163       \n",
      "Government primary education expenditure %ge of...                                           0.564231       \n",
      "Government Secondary education expenditure %ge ...                                           1.000000       \n",
      "GDP per capita                                                                               0.188264       \n",
      "\n",
      "                                                    GDP per capita  \n",
      "Primary Male enrollment %                                 0.141091  \n",
      "Primary female enrollment %                               0.256816  \n",
      "Total Secondary male enrollment %                         0.467798  \n",
      "Total secondary female enrollment %                       0.488094  \n",
      "Government primary education expenditure %ge of...       -0.183182  \n",
      "Government Secondary education expenditure %ge ...        0.188264  \n",
      "GDP per capita                                            1.000000  \n"
     ]
    },
    {
     "data": {
      "image/png": "[encoded data removed]",
      "text/plain": [
       "<Figure size 1000x800 with 2 Axes>"
      ]
     },
     "metadata": {},
     "output_type": "display_data"
    }
   ],
   "source": [
    "import pandas as pd\n",
    "import geopandas as gpd\n",
    "import matplotlib.pyplot as plt\n",
    "import seaborn as sns\n",
    "import folium\n",
    "from folium.plugins import MarkerCluster, TimestampedGeoJson\n",
    "import plotly.express as px\n",
    "import plotly.graph_objects as go\n",
    "import numpy as np\n",
    "from sklearn.cluster import KMeans\n",
    "\n",
    "# Load the GeoJSON dataset\n",
    "#merged_data = gpd.read_file('merged_data.geojson')\n",
    "\n",
    "# Ensure valid geometries\n",
    "#if merged_data.geometry.is_empty.any() or merged_data.geometry.isna().any():\n",
    "    #print(\"Warning: Empty or NaN geometries detected. Dropping invalid rows.\")\n",
    "    #merged_data = merged_data[merged_data.geometry.is_valid & ~merged_data.geometry.is_empty]\n",
    "\n",
    "# Define key variables\n",
    "key_vars = [\n",
    "    'Primary Male enrollment %',\n",
    "    'Primary female enrollment %',\n",
    "    'Total Secondary male enrollment %',\n",
    "    'Total secondary female enrollment %',\n",
    "    'Government primary education expenditure %ge of GDP',\n",
    "    'Government Secondary education expenditure %ge of GDP',\n",
    "    'GDP per capita'\n",
    "]\n",
    "\n",
    "# 1. Correlation Analysis (using Spearman to avoid pingouin dependency)\n",
    "print(\"\\n=== Spearman Correlation Matrix ===\")\n",
    "corr_matrix = merged_data[key_vars].corr(method='spearman')\n",
    "print(corr_matrix)\n",
    "\n",
    "# Plot static correlation heatmap (from your code)\n",
    "plt.figure(figsize=(10,8))\n",
    "sns.heatmap(corr_matrix, annot=True, cmap='coolwarm', vmin=-1, vmax=1, center=0)\n",
    "plt.title('Spearman Correlation Matrix of Indicators')\n",
    "plt.tight_layout()\n",
    "plt.savefig('correlation_heatmap.png', dpi=300, bbox_inches='tight')\n",
    "plt.show()\n",
    "plt.close()\n",
    "\n",
    "# Interactive Plotly Heatmap\n",
    "fig = px.imshow(\n",
    "    corr_matrix,\n",
    "    x=key_vars,\n",
    "    y=key_vars,\n",
    "    color_continuous_scale='RdBu_r',\n",
    "    zmin=-1,\n",
    "    zmax=1,\n",
    "    title='Interactive Spearman Correlation Matrix'\n",
    ")\n",
    "fig.update_layout(width=800, height=600)\n",
    "fig.write_html('correlation_heatmap_interactive.html')\n",
    "\n",
    "# Clean data for scatter\n",
    "merged_clean = merged_data.dropna(subset=['Government Secondary education expenditure %ge of GDP'])\n",
    "\n",
    "fig = px.scatter(\n",
    "    merged_clean,\n",
    "    x='GDP per capita',\n",
    "    y='Total Secondary male enrollment %',\n",
    "    color='Primary Male enrollment %',\n",
    "    size='Government Secondary education expenditure %ge of GDP',\n",
    "    hover_data=key_vars,\n",
    "    title='Interactive Scatter: GDP per Capita vs Secondary Male Enrollment',\n",
    "    color_continuous_scale='Viridis'\n",
    ")\n",
    "fig.update_layout(width=800, height=600)\n",
    "fig.write_html('scatter_plot_interactive.html')\n",
    "\n",
    "\n"
   ]
  },
  {
   "cell_type": "code",
   "execution_count": 156,
   "id": "48e24f09",
   "metadata": {},
   "outputs": [],
   "source": [
    "merged_clean = merged_data.dropna(\n",
    "    subset=['Government Secondary education expenditure %ge of GDP']\n",
    ")\n",
    "\n",
    "fig = px.scatter(\n",
    "    merged_clean,\n",
    "    x='GDP per capita',\n",
    "    y='Total Secondary male enrollment %',\n",
    "    color='Primary Male enrollment %',\n",
    "    size='Government Secondary education expenditure %ge of GDP',\n",
    "    hover_data=key_vars,\n",
    "    title='Interactive Scatter: GDP per Capita vs Secondary Male Enrollment',\n",
    "    color_continuous_scale='Viridis'\n",
    ")\n",
    "fig.update_layout(width=800, height=600)\n",
    "fig.write_html('scatter_plot_interactive.html')\n"
   ]
  },
  {
   "cell_type": "code",
   "execution_count": 157,
   "id": "f0098aac",
   "metadata": {},
   "outputs": [],
   "source": [
    "# 3. Box Plots for Outlier Detection\n",
    "plt.figure(figsize=(15, 8))\n",
    "for i, var in enumerate(key_vars, 1):\n",
    "    plt.subplot(2, 4, i)\n",
    "    sns.boxplot(y=merged_data[var])\n",
    "    plt.title(var)\n",
    "    plt.ylabel('')\n",
    "plt.tight_layout()\n",
    "plt.savefig('box_plots.png')\n",
    "plt.close()"
   ]
  },
  {
   "cell_type": "code",
   "execution_count": 158,
   "id": "60da9773",
   "metadata": {},
   "outputs": [],
   "source": [
    "# 4. K-means Clustering\n",
    "X = merged_data[key_vars].dropna()\n",
    "X_scaled = (X - X.mean()) / X.std()\n",
    "kmeans = KMeans(n_clusters=3, random_state=42)\n",
    "X['cluster'] = kmeans.fit_predict(X_scaled)\n",
    "merged_data.loc[X.index, 'cluster'] = X['cluster'].astype(str)"
   ]
  },
  {
   "cell_type": "code",
   "execution_count": 163,
   "id": "a790096d",
   "metadata": {},
   "outputs": [
    {
     "name": "stdout",
     "output_type": "stream",
     "text": [
      "Map generated: 'interactive_bubble_map_gdp_color.html'\n"
     ]
    }
   ],
   "source": [
    "import pandas as pd\n",
    "import geopandas as gpd\n",
    "import folium\n",
    "import matplotlib.pyplot as plt\n",
    "from matplotlib import cm\n",
    "\n",
    "# 1. Compute centroids if geometries are polygons\n",
    "if merged_data.geometry.type.iloc[0] in ['Polygon', 'MultiPolygon']:\n",
    "    merged_data = merged_data.to_crs(epsg=3395)\n",
    "    merged_data['geometry'] = merged_data.geometry.centroid\n",
    "    merged_data = merged_data.to_crs(epsg=4326)\n",
    "\n",
    "# 2. Normalize values\n",
    "def normalize(series):\n",
    "    rng = series.max() - series.min()\n",
    "    return (series - series.min()) / (rng if rng != 0 else 1)\n",
    "\n",
    "merged_data['color_norm'] = normalize(merged_data['GDP per capita'])\n",
    "merged_data['size_norm'] = normalize(merged_data['Total Secondary male enrollment %'])\n",
    "\n",
    "# 3. Initialize map\n",
    "map_center = [merged_data.geometry.y.mean(), merged_data.geometry.x.mean()]\n",
    "m = folium.Map(location=map_center, zoom_start=3, tiles='CartoDB positron')\n",
    "\n",
    "# 4. Add circle markers: color = GDP, size = enrollment\n",
    "for idx, row in merged_data.iterrows():\n",
    "    color_value = row['color_norm']\n",
    "    color = cm.Reds(color_value)  # Use 'Reds' for GDP shading\n",
    "    color_hex = '#%02x%02x%02x' % (int(color[0]*255), int(color[1]*255), int(color[2]*255))\n",
    "\n",
    "    popup_content = f\"\"\"\n",
    "        <strong>Cluster:</strong> {row.get('cluster', 'N/A')}<br>\n",
    "        <strong>GDP per capita:</strong> {row.get('GDP per capita', 0):,.2f}<br>\n",
    "        <strong>Primary Male Enrollment:</strong> {row.get('Primary Male enrollment %', 0):.2f}%<br>\n",
    "        <strong>Primary Female Enrollment:</strong> {row.get('Primary female enrollment %', 0):.2f}%<br>\n",
    "        <strong>Secondary Male Enrollment:</strong> {row.get('Total Secondary male enrollment %', 0):.2f}%<br>\n",
    "        <strong>Secondary Female Enrollment:</strong> {row.get('Total secondary female enrollment %', 0):.2f}%<br>\n",
    "        <strong>Primary Edu Exp (% GDP):</strong> {row.get('Government primary education expenditure %ge of GDP', 0):.2f}%<br>\n",
    "        <strong>Secondary Edu Exp (% GDP):</strong> {row.get('Government Secondary education expenditure %ge of GDP', 0):.2f}%\n",
    "    \"\"\"\n",
    "\n",
    "    folium.CircleMarker(\n",
    "        location=[row.geometry.y, row.geometry.x],\n",
    "        radius=5 + row['size_norm'] * 15,  # Bubble size reflects enrollment\n",
    "        color=color_hex,\n",
    "        fill=True,\n",
    "        fill_color=color_hex,\n",
    "        fill_opacity=0.8,\n",
    "        popup=folium.Popup(popup_content, max_width=300)\n",
    "    ).add_to(m)\n",
    "\n",
    "# 5. Add legend\n",
    "legend_html = '''\n",
    "<div style=\"position: fixed; bottom: 50px; left: 50px; z-index: 1000; padding: 10px;\n",
    "            background-color: white; border: 1px solid black; font-size:14px;\">\n",
    "    <p><strong>Bubble Map Legend</strong></p>\n",
    "    <p><b>Color</b>: GDP per capita (light = low, dark = high)</p>\n",
    "    <p><b>Bubble Size</b>: Total Secondary Male Enrollment %</p>\n",
    "</div>\n",
    "'''\n",
    "m.get_root().html.add_child(folium.Element(legend_html))\n",
    "\n",
    "# 6. Save map\n",
    "m.save('interactive_bubble_map_gdp_color.html')\n",
    "\n",
    "print(\"Map generated: 'interactive_bubble_map_gdp_color.html'\")\n"
   ]
  }
 ],
 "metadata": {
  "kernelspec": {
   "display_name": "Python 3",
   "language": "python",
   "name": "python3"
  },
  "language_info": {
   "codemirror_mode": {
    "name": "ipython",
    "version": 3
   },
   "file_extension": ".py",
   "mimetype": "text/x-python",
   "name": "python",
   "nbconvert_exporter": "python",
   "pygments_lexer": "ipython3",
   "version": "3.12.1"
  }
 },
 "nbformat": 4,
 "nbformat_minor": 5
}
