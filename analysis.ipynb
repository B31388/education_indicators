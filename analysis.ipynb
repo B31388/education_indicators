{
 "cells": [
  {
   "cell_type": "code",
   "execution_count": 84,
   "id": "540efbcb",
   "metadata": {},
   "outputs": [],
   "source": [
    "import pandas as pd\n",
    "import pandas as pd\n",
    "import geopandas as gpd  # Import geopandas\n",
    "import requests\n",
    "\n",
    "df = pd.read_csv(\"education_indicators.csv\")"
   ]
  },
  {
   "cell_type": "code",
   "execution_count": 85,
   "id": "36a409bb",
   "metadata": {},
   "outputs": [
    {
     "name": "stdout",
     "output_type": "stream",
     "text": [
      "<class 'pandas.core.frame.DataFrame'>\n",
      "RangeIndex: 1699 entries, 0 to 1698\n",
      "Data columns (total 16 columns):\n",
      " #   Column                                                                                                               Non-Null Count  Dtype \n",
      "---  ------                                                                                                               --------------  ----- \n",
      " 0   Time                                                                                                                 1696 non-null   object\n",
      " 1   Time Code                                                                                                            1694 non-null   object\n",
      " 2   Country Name                                                                                                         1694 non-null   object\n",
      " 3   Country Code                                                                                                         1694 non-null   object\n",
      " 4   Total net enrolment rate, primary, male (%) [UIS.NERT.1.M]                                                           1694 non-null   object\n",
      " 5   Total net enrolment rate, primary, gender parity index (GPI) [UIS.NERT.1.GPI]                                        1694 non-null   object\n",
      " 6   Total net enrolment rate, primary, female (%) [UIS.NERT.1.F]                                                         1694 non-null   object\n",
      " 7   Total net enrolment rate, primary, both sexes (%) [UIS.NERT.1]                                                       1694 non-null   object\n",
      " 8   Total net enrolment rate, lower secondary, male (%) [UIS.NERT.2.M]                                                   1694 non-null   object\n",
      " 9   Total net enrolment rate, lower secondary, gender parity index (GPI) [UIS.NERT.2.GPI]                                1694 non-null   object\n",
      " 10  Total net enrolment rate, lower secondary, female (%) [UIS.NERT.2.F]                                                 1694 non-null   object\n",
      " 11  Total net enrolment rate, lower secondary, both sexes (%) [UIS.NERT.2]                                               1694 non-null   object\n",
      " 12  Government expenditure on primary education as % of GDP (%) [UIS.XGDP.1.FSGOV]                                       1694 non-null   object\n",
      " 13  Government expenditure on secondary education as % of GDP (%) [UIS.XGDP.23.FSGOV]                                    1694 non-null   object\n",
      " 14  Initial government funding per lower secondary student as a percentage of GDP per capita [UIS.XUNIT.GDPCAP.2.FSGOV]  1694 non-null   object\n",
      " 15  GDP per capita, PPP (current international $) [NY.GDP.PCAP.PP.CD]                                                    1694 non-null   object\n",
      "dtypes: object(16)\n",
      "memory usage: 212.5+ KB\n",
      "None\n",
      "        Time Time Code Country Name Country Code  \\\n",
      "count   1696      1694         1694         1694   \n",
      "unique     9         7          242          242   \n",
      "top     2010    YR2010  Afghanistan          AFG   \n",
      "freq     242       242            7            7   \n",
      "\n",
      "       Total net enrolment rate, primary, male (%) [UIS.NERT.1.M]  \\\n",
      "count                                                1694           \n",
      "unique                                                826           \n",
      "top                                                    ..           \n",
      "freq                                                  732           \n",
      "\n",
      "       Total net enrolment rate, primary, gender parity index (GPI) [UIS.NERT.1.GPI]  \\\n",
      "count                                                1694                              \n",
      "unique                                                894                              \n",
      "top                                                    ..                              \n",
      "freq                                                  728                              \n",
      "\n",
      "       Total net enrolment rate, primary, female (%) [UIS.NERT.1.F]  \\\n",
      "count                                                1694             \n",
      "unique                                                769             \n",
      "top                                                    ..             \n",
      "freq                                                  732             \n",
      "\n",
      "       Total net enrolment rate, primary, both sexes (%) [UIS.NERT.1]  \\\n",
      "count                                                1694               \n",
      "unique                                                965               \n",
      "top                                                    ..               \n",
      "freq                                                  723               \n",
      "\n",
      "       Total net enrolment rate, lower secondary, male (%) [UIS.NERT.2.M]  \\\n",
      "count                                                1694                   \n",
      "unique                                                761                   \n",
      "top                                                    ..                   \n",
      "freq                                                  934                   \n",
      "\n",
      "       Total net enrolment rate, lower secondary, gender parity index (GPI) [UIS.NERT.2.GPI]  \\\n",
      "count                                                1694                                      \n",
      "unique                                                729                                      \n",
      "top                                                    ..                                      \n",
      "freq                                                  930                                      \n",
      "\n",
      "       Total net enrolment rate, lower secondary, female (%) [UIS.NERT.2.F]  \\\n",
      "count                                                1694                     \n",
      "unique                                                761                     \n",
      "top                                                    ..                     \n",
      "freq                                                  934                     \n",
      "\n",
      "       Total net enrolment rate, lower secondary, both sexes (%) [UIS.NERT.2]  \\\n",
      "count                                                1694                       \n",
      "unique                                                899                       \n",
      "top                                                    ..                       \n",
      "freq                                                  796                       \n",
      "\n",
      "       Government expenditure on primary education as % of GDP (%) [UIS.XGDP.1.FSGOV]  \\\n",
      "count                                                1694                               \n",
      "unique                                                693                               \n",
      "top                                                    ..                               \n",
      "freq                                                 1000                               \n",
      "\n",
      "       Government expenditure on secondary education as % of GDP (%) [UIS.XGDP.23.FSGOV]  \\\n",
      "count                                                1694                                  \n",
      "unique                                                708                                  \n",
      "top                                                    ..                                  \n",
      "freq                                                  986                                  \n",
      "\n",
      "       Initial government funding per lower secondary student as a percentage of GDP per capita [UIS.XUNIT.GDPCAP.2.FSGOV]  \\\n",
      "count                                                1694                                                                    \n",
      "unique                                                534                                                                    \n",
      "top                                                    ..                                                                    \n",
      "freq                                                 1160                                                                    \n",
      "\n",
      "       GDP per capita, PPP (current international $) [NY.GDP.PCAP.PP.CD]  \n",
      "count                                                1694                 \n",
      "unique                                               1505                 \n",
      "top                                                    ..                 \n",
      "freq                                                  190                 \n",
      "Time                                                                                                                   3\n",
      "Time Code                                                                                                              5\n",
      "Country Name                                                                                                           5\n",
      "Country Code                                                                                                           5\n",
      "Total net enrolment rate, primary, male (%) [UIS.NERT.1.M]                                                             5\n",
      "Total net enrolment rate, primary, gender parity index (GPI) [UIS.NERT.1.GPI]                                          5\n",
      "Total net enrolment rate, primary, female (%) [UIS.NERT.1.F]                                                           5\n",
      "Total net enrolment rate, primary, both sexes (%) [UIS.NERT.1]                                                         5\n",
      "Total net enrolment rate, lower secondary, male (%) [UIS.NERT.2.M]                                                     5\n",
      "Total net enrolment rate, lower secondary, gender parity index (GPI) [UIS.NERT.2.GPI]                                  5\n",
      "Total net enrolment rate, lower secondary, female (%) [UIS.NERT.2.F]                                                   5\n",
      "Total net enrolment rate, lower secondary, both sexes (%) [UIS.NERT.2]                                                 5\n",
      "Government expenditure on primary education as % of GDP (%) [UIS.XGDP.1.FSGOV]                                         5\n",
      "Government expenditure on secondary education as % of GDP (%) [UIS.XGDP.23.FSGOV]                                      5\n",
      "Initial government funding per lower secondary student as a percentage of GDP per capita [UIS.XUNIT.GDPCAP.2.FSGOV]    5\n",
      "GDP per capita, PPP (current international $) [NY.GDP.PCAP.PP.CD]                                                      5\n",
      "dtype: int64\n"
     ]
    }
   ],
   "source": [
    "print(df.info())\n",
    "print(df.describe())\n",
    "print(df.isnull().sum())"
   ]
  },
  {
   "cell_type": "code",
   "execution_count": 86,
   "id": "6be28a4f",
   "metadata": {},
   "outputs": [],
   "source": [
    "# Example: Fill missing numerical values with median\n",
    "df.fillna(df.median(numeric_only=True), inplace=True)"
   ]
  },
  {
   "cell_type": "code",
   "execution_count": 87,
   "id": "cada3ba8",
   "metadata": {},
   "outputs": [],
   "source": [
    "df.duplicated().sum()\n",
    "# Remove duplicates\n",
    "df = df.drop_duplicates()"
   ]
  },
  {
   "cell_type": "code",
   "execution_count": 88,
   "id": "d8354a3c",
   "metadata": {},
   "outputs": [],
   "source": [
    "# Standardize country names\n",
    "df[\"country\"] = df[\"Country Name\"].str.strip().str.title()"
   ]
  },
  {
   "cell_type": "code",
   "execution_count": 89,
   "id": "277afe8d",
   "metadata": {},
   "outputs": [],
   "source": [
    "# Load GeoJSON\n",
    "url = \"https://raw.githubusercontent.com/python-visualization/folium/main/examples/data/world-countries.json\"\n",
    "geo_data = gpd.read_file(url)"
   ]
  },
  {
   "cell_type": "code",
   "execution_count": 90,
   "id": "8fce4154",
   "metadata": {},
   "outputs": [],
   "source": [
    "# List of African countries (simplified, adjust as needed)\n",
    "african_countries = [\n",
    "    \"Algeria\", \"Angola\", \"Benin\", \"Botswana\", \"Burkina Faso\", \"Burundi\", \"Cabo Verde\",\n",
    "    \"Cameroon\", \"Central African Republic\", \"Chad\", \"Comoros\", \"Congo\", \"Democratic Republic of the Congo\",\n",
    "    \"Djibouti\", \"Egypt\", \"Equatorial Guinea\", \"Eritrea\", \"Eswatini\", \"Ethiopia\", \"Gabon\", \"Gambia\",\n",
    "    \"Ghana\", \"Guinea\", \"Guinea-Bissau\", \"Ivory Coast\", \"Kenya\", \"Lesotho\", \"Liberia\", \"Libya\",\n",
    "    \"Madagascar\", \"Malawi\", \"Mali\", \"Mauritania\", \"Mauritius\", \"Morocco\", \"Mozambique\", \"Namibia\",\n",
    "    \"Niger\", \"Nigeria\", \"Rwanda\", \"Sao Tome and Principe\", \"Senegal\", \"Seychelles\", \"Sierra Leone\",\n",
    "    \"Somalia\", \"South Africa\", \"South Sudan\", \"Sudan\", \"Tanzania\", \"Togo\", \"Tunisia\", \"Uganda\",\n",
    "    \"Zambia\", \"Zimbabwe\"\n",
    "]\n",
    "\n",
    "# Filter for African countries\n",
    "geo_data = geo_data[geo_data[\"name\"].isin(african_countries)]"
   ]
  },
  {
   "cell_type": "code",
   "execution_count": 91,
   "id": "53bee46a",
   "metadata": {},
   "outputs": [],
   "source": [
    "# Merge datasets\n",
    "merged_data = geo_data.merge(df, left_on=\"name\", right_on=\"country\", how=\"left\")"
   ]
  },
  {
   "cell_type": "code",
   "execution_count": 92,
   "id": "79333b80",
   "metadata": {},
   "outputs": [
    {
     "name": "stdout",
     "output_type": "stream",
     "text": [
      "Cleaned dataset saved as 'clean_education_indicators.csv'\n"
     ]
    }
   ],
   "source": [
    "# Save cleaned dataset\n",
    "merged_data.to_csv(\"clean_education_indicators.csv\", index=False)\n",
    "print(\"Cleaned dataset saved as 'clean_education_indicators.csv'\")"
   ]
  },
  {
   "cell_type": "code",
   "execution_count": 93,
   "id": "3d406806",
   "metadata": {},
   "outputs": [
    {
     "name": "stdout",
     "output_type": "stream",
     "text": [
      "Original column names: ['id', 'name', 'geometry', 'Time', 'Time Code', 'Country Name', 'Country Code', 'Total net enrolment rate, primary, male (%) [UIS.NERT.1.M]', 'Total net enrolment rate, primary, gender parity index (GPI) [UIS.NERT.1.GPI]', 'Total net enrolment rate, primary, female (%) [UIS.NERT.1.F]', 'Total net enrolment rate, primary, both sexes (%) [UIS.NERT.1]', 'Total net enrolment rate, lower secondary, male (%) [UIS.NERT.2.M]', 'Total net enrolment rate, lower secondary, gender parity index (GPI) [UIS.NERT.2.GPI]', 'Total net enrolment rate, lower secondary, female (%) [UIS.NERT.2.F]', 'Total net enrolment rate, lower secondary, both sexes (%) [UIS.NERT.2]', 'Government expenditure on primary education as % of GDP (%) [UIS.XGDP.1.FSGOV]', 'Government expenditure on secondary education as % of GDP (%) [UIS.XGDP.23.FSGOV]', 'Initial government funding per lower secondary student as a percentage of GDP per capita [UIS.XUNIT.GDPCAP.2.FSGOV]', 'GDP per capita, PPP (current international $) [NY.GDP.PCAP.PP.CD]', 'country']\n"
     ]
    }
   ],
   "source": [
    "# List column names\n",
    "print(\"Original column names:\", merged_data.columns.tolist())"
   ]
  },
  {
   "cell_type": "code",
   "execution_count": 94,
   "id": "64b42041",
   "metadata": {},
   "outputs": [
    {
     "name": "stdout",
     "output_type": "stream",
     "text": [
      "Renamed column names: ['id', 'name', 'geometry', 'Year', 'Time Code', 'country', 'Country Code', 'Primary Male enrollment %', 'Primary Gender Parity index', 'Primary female enrollment %', 'Total Primary enrollment %', 'Total Secondary male enrollment %', 'Lower secondary Gender Parity index', 'Total secondary female enrollment %', 'Total Secondary enrollment %', 'Government primary education expenditure %ge of GDP', 'Government Secondary education expenditure %ge of GDP', 'Initial government funding per lower secondary student as a percentage of GDP per capita [UIS.XUNIT.GDPCAP.2.FSGOV]', 'GDP per capita', 'country']\n"
     ]
    }
   ],
   "source": [
    "rename_dict = {\n",
    "    'Time': 'Year', \n",
    "    'Country Name': 'country',\n",
    "    'Total net enrolment rate, primary, male (%) [UIS.NERT.1.M]' : 'Primary Male enrollment %', \n",
    "    'Total net enrolment rate, primary, gender parity index (GPI) [UIS.NERT.1.GPI]': 'Primary Gender Parity index',\n",
    "    'Total net enrolment rate, primary, female (%) [UIS.NERT.1.F]': 'Primary female enrollment %',\n",
    "    'Total net enrolment rate, primary, both sexes (%) [UIS.NERT.1]':'Total Primary enrollment %',\n",
    "    'Total net enrolment rate, lower secondary, male (%) [UIS.NERT.2.M]': 'Total Secondary male enrollment %',\n",
    "    'Total net enrolment rate, lower secondary, gender parity index (GPI) [UIS.NERT.2.GPI]': 'Lower secondary Gender Parity index',\n",
    "    'Total net enrolment rate, lower secondary, female (%) [UIS.NERT.2.F]': 'Total secondary female enrollment %',\n",
    "    'Total net enrolment rate, lower secondary, both sexes (%) [UIS.NERT.2]':'Total Secondary enrollment %', \n",
    "    'Government expenditure on primary education as % of GDP (%) [UIS.XGDP.1.FSGOV]': 'Government primary education expenditure %ge of GDP', \n",
    "    'Government expenditure on secondary education as % of GDP (%) [UIS.XGDP.23.FSGOV]': 'Government Secondary education expenditure %ge of GDP',\n",
    "    'GDP per capita, PPP (current international $) [NY.GDP.PCAP.PP.CD]': 'GDP per capita'\n",
    "}\n",
    "merged_data = merged_data.rename(columns=rename_dict)\n",
    "print(\"Renamed column names:\", merged_data.columns.tolist())"
   ]
  },
  {
   "cell_type": "code",
   "execution_count": 95,
   "id": "bccca35e",
   "metadata": {},
   "outputs": [
    {
     "name": "stdout",
     "output_type": "stream",
     "text": [
      "Merged data columns after removing duplicate 'country': ['id', 'name', 'geometry', 'Year', 'Time Code', 'Country Code', 'Primary Male enrollment %', 'Primary Gender Parity index', 'Primary female enrollment %', 'Total Primary enrollment %', 'Total Secondary male enrollment %', 'Lower secondary Gender Parity index', 'Total secondary female enrollment %', 'Total Secondary enrollment %', 'Government primary education expenditure %ge of GDP', 'Government Secondary education expenditure %ge of GDP', 'Initial government funding per lower secondary student as a percentage of GDP per capita [UIS.XUNIT.GDPCAP.2.FSGOV]', 'GDP per capita', 'country']\n"
     ]
    }
   ],
   "source": [
    "# Drop one 'country' column, keeping the last occurrence\n",
    "merged_data = merged_data.loc[:, ~merged_data.columns.duplicated(keep='last')]\n",
    "\n",
    "# Verify merged_data columns after removing duplicate\n",
    "print(\"Merged data columns after removing duplicate 'country':\", merged_data.columns.tolist())"
   ]
  },
  {
   "cell_type": "code",
   "execution_count": 96,
   "id": "02c73142",
   "metadata": {},
   "outputs": [
    {
     "name": "stdout",
     "output_type": "stream",
     "text": [
      "       Primary Male enrollment %  Primary female enrollment %  \\\n",
      "count                 158.000000                   158.000000   \n",
      "mean                   82.654523                    79.562530   \n",
      "std                    15.416161                    17.026608   \n",
      "min                    42.428310                    32.739500   \n",
      "25%                    71.045990                    63.895715   \n",
      "50%                    88.704960                    85.100010   \n",
      "75%                    95.671858                    94.234620   \n",
      "max                   100.000000                   100.000000   \n",
      "\n",
      "       Total Secondary male enrollment %  Total secondary female enrollment %  \\\n",
      "count                          76.000000                            76.000000   \n",
      "mean                           66.057297                            59.360439   \n",
      "std                            16.261996                            19.782224   \n",
      "min                            24.002810                            17.542500   \n",
      "25%                            55.051603                            47.895402   \n",
      "50%                            64.967365                            57.817575   \n",
      "75%                            81.048653                            72.040032   \n",
      "max                            97.707690                            97.859720   \n",
      "\n",
      "       Government primary education expenditure %ge of GDP  \\\n",
      "count                                         139.000000     \n",
      "mean                                            1.663347     \n",
      "std                                             0.740666     \n",
      "min                                             0.542080     \n",
      "25%                                             1.050665     \n",
      "50%                                             1.530560     \n",
      "75%                                             2.136600     \n",
      "max                                             3.703170     \n",
      "\n",
      "       Government Secondary education expenditure %ge of GDP  GDP per capita  \n",
      "count                                         143.000000          266.000000  \n",
      "mean                                            1.166940         5479.831131  \n",
      "std                                             0.717454         6727.981485  \n",
      "min                                             0.032530          699.592881  \n",
      "25%                                             0.639340         1609.628341  \n",
      "50%                                             0.938760         2664.074642  \n",
      "75%                                             1.598295         6614.506404  \n",
      "max                                             4.721870        36576.090431  \n"
     ]
    },
    {
     "data": {
      "application/vnd.plotly.v1+json": {
       "config": {
        "plotlyServerURL": "https://plot.ly"
       },
       "data": [
        {
         "bingroup": "x",
         "hovertemplate": "Primary Male enrollment %=%{x}<br>count=%{y}<extra></extra>",
         "legendgroup": "",
         "marker": {
          "color": "#636efa",
          "pattern": {
           "shape": ""
          }
         },
         "name": "",
         "orientation": "v",
         "showlegend": false,
         "type": "histogram",
         "x": {
          "bdata": "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",
          "dtype": "f8"
         },
         "xaxis": "x",
         "yaxis": "y"
        }
       ],
       "layout": {
        "barmode": "relative",
        "legend": {
         "tracegroupgap": 0
        },
        "template": {
         "data": {
          "bar": [
           {
            "error_x": {
             "color": "#2a3f5f"
            },
            "error_y": {
             "color": "#2a3f5f"
            },
            "marker": {
             "line": {
              "color": "#E5ECF6",
              "width": 0.5
             },
             "pattern": {
              "fillmode": "overlay",
              "size": 10,
              "solidity": 0.2
             }
            },
            "type": "bar"
           }
          ],
          "barpolar": [
           {
            "marker": {
             "line": {
              "color": "#E5ECF6",
              "width": 0.5
             },
             "pattern": {
              "fillmode": "overlay",
              "size": 10,
              "solidity": 0.2
             }
            },
            "type": "barpolar"
           }
          ],
          "carpet": [
           {
            "aaxis": {
             "endlinecolor": "#2a3f5f",
             "gridcolor": "white",
             "linecolor": "white",
             "minorgridcolor": "white",
             "startlinecolor": "#2a3f5f"
            },
            "baxis": {
             "endlinecolor": "#2a3f5f",
             "gridcolor": "white",
             "linecolor": "white",
             "minorgridcolor": "white",
             "startlinecolor": "#2a3f5f"
            },
            "type": "carpet"
           }
          ],
          "choropleth": [
           {
            "colorbar": {
             "outlinewidth": 0,
             "ticks": ""
            },
            "type": "choropleth"
           }
          ],
          "contour": [
           {
            "colorbar": {
             "outlinewidth": 0,
             "ticks": ""
            },
            "colorscale": [
             [
              0,
              "#0d0887"
             ],
             [
              0.1111111111111111,
              "#46039f"
             ],
             [
              0.2222222222222222,
              "#7201a8"
             ],
             [
              0.3333333333333333,
              "#9c179e"
             ],
             [
              0.4444444444444444,
              "#bd3786"
             ],
             [
              0.5555555555555556,
              "#d8576b"
             ],
             [
              0.6666666666666666,
              "#ed7953"
             ],
             [
              0.7777777777777778,
              "#fb9f3a"
             ],
             [
              0.8888888888888888,
              "#fdca26"
             ],
             [
              1,
              "#f0f921"
             ]
            ],
            "type": "contour"
           }
          ],
          "contourcarpet": [
           {
            "colorbar": {
             "outlinewidth": 0,
             "ticks": ""
            },
            "type": "contourcarpet"
           }
          ],
          "heatmap": [
           {
            "colorbar": {
             "outlinewidth": 0,
             "ticks": ""
            },
            "colorscale": [
             [
              0,
              "#0d0887"
             ],
             [
              0.1111111111111111,
              "#46039f"
             ],
             [
              0.2222222222222222,
              "#7201a8"
             ],
             [
              0.3333333333333333,
              "#9c179e"
             ],
             [
              0.4444444444444444,
              "#bd3786"
             ],
             [
              0.5555555555555556,
              "#d8576b"
             ],
             [
              0.6666666666666666,
              "#ed7953"
             ],
             [
              0.7777777777777778,
              "#fb9f3a"
             ],
             [
              0.8888888888888888,
              "#fdca26"
             ],
             [
              1,
              "#f0f921"
             ]
            ],
            "type": "heatmap"
           }
          ],
          "histogram": [
           {
            "marker": {
             "pattern": {
              "fillmode": "overlay",
              "size": 10,
              "solidity": 0.2
             }
            },
            "type": "histogram"
           }
          ],
          "histogram2d": [
           {
            "colorbar": {
             "outlinewidth": 0,
             "ticks": ""
            },
            "colorscale": [
             [
              0,
              "#0d0887"
             ],
             [
              0.1111111111111111,
              "#46039f"
             ],
             [
              0.2222222222222222,
              "#7201a8"
             ],
             [
              0.3333333333333333,
              "#9c179e"
             ],
             [
              0.4444444444444444,
              "#bd3786"
             ],
             [
              0.5555555555555556,
              "#d8576b"
             ],
             [
              0.6666666666666666,
              "#ed7953"
             ],
             [
              0.7777777777777778,
              "#fb9f3a"
             ],
             [
              0.8888888888888888,
              "#fdca26"
             ],
             [
              1,
              "#f0f921"
             ]
            ],
            "type": "histogram2d"
           }
          ],
          "histogram2dcontour": [
           {
            "colorbar": {
             "outlinewidth": 0,
             "ticks": ""
            },
            "colorscale": [
             [
              0,
              "#0d0887"
             ],
             [
              0.1111111111111111,
              "#46039f"
             ],
             [
              0.2222222222222222,
              "#7201a8"
             ],
             [
              0.3333333333333333,
              "#9c179e"
             ],
             [
              0.4444444444444444,
              "#bd3786"
             ],
             [
              0.5555555555555556,
              "#d8576b"
             ],
             [
              0.6666666666666666,
              "#ed7953"
             ],
             [
              0.7777777777777778,
              "#fb9f3a"
             ],
             [
              0.8888888888888888,
              "#fdca26"
             ],
             [
              1,
              "#f0f921"
             ]
            ],
            "type": "histogram2dcontour"
           }
          ],
          "mesh3d": [
           {
            "colorbar": {
             "outlinewidth": 0,
             "ticks": ""
            },
            "type": "mesh3d"
           }
          ],
          "parcoords": [
           {
            "line": {
             "colorbar": {
              "outlinewidth": 0,
              "ticks": ""
             }
            },
            "type": "parcoords"
           }
          ],
          "pie": [
           {
            "automargin": true,
            "type": "pie"
           }
          ],
          "scatter": [
           {
            "fillpattern": {
             "fillmode": "overlay",
             "size": 10,
             "solidity": 0.2
            },
            "type": "scatter"
           }
          ],
          "scatter3d": [
           {
            "line": {
             "colorbar": {
              "outlinewidth": 0,
              "ticks": ""
             }
            },
            "marker": {
             "colorbar": {
              "outlinewidth": 0,
              "ticks": ""
             }
            },
            "type": "scatter3d"
           }
          ],
          "scattercarpet": [
           {
            "marker": {
             "colorbar": {
              "outlinewidth": 0,
              "ticks": ""
             }
            },
            "type": "scattercarpet"
           }
          ],
          "scattergeo": [
           {
            "marker": {
             "colorbar": {
              "outlinewidth": 0,
              "ticks": ""
             }
            },
            "type": "scattergeo"
           }
          ],
          "scattergl": [
           {
            "marker": {
             "colorbar": {
              "outlinewidth": 0,
              "ticks": ""
             }
            },
            "type": "scattergl"
           }
          ],
          "scattermap": [
           {
            "marker": {
             "colorbar": {
              "outlinewidth": 0,
              "ticks": ""
             }
            },
            "type": "scattermap"
           }
          ],
          "scattermapbox": [
           {
            "marker": {
             "colorbar": {
              "outlinewidth": 0,
              "ticks": ""
             }
            },
            "type": "scattermapbox"
           }
          ],
          "scatterpolar": [
           {
            "marker": {
             "colorbar": {
              "outlinewidth": 0,
              "ticks": ""
             }
            },
            "type": "scatterpolar"
           }
          ],
          "scatterpolargl": [
           {
            "marker": {
             "colorbar": {
              "outlinewidth": 0,
              "ticks": ""
             }
            },
            "type": "scatterpolargl"
           }
          ],
          "scatterternary": [
           {
            "marker": {
             "colorbar": {
              "outlinewidth": 0,
              "ticks": ""
             }
            },
            "type": "scatterternary"
           }
          ],
          "surface": [
           {
            "colorbar": {
             "outlinewidth": 0,
             "ticks": ""
            },
            "colorscale": [
             [
              0,
              "#0d0887"
             ],
             [
              0.1111111111111111,
              "#46039f"
             ],
             [
              0.2222222222222222,
              "#7201a8"
             ],
             [
              0.3333333333333333,
              "#9c179e"
             ],
             [
              0.4444444444444444,
              "#bd3786"
             ],
             [
              0.5555555555555556,
              "#d8576b"
             ],
             [
              0.6666666666666666,
              "#ed7953"
             ],
             [
              0.7777777777777778,
              "#fb9f3a"
             ],
             [
              0.8888888888888888,
              "#fdca26"
             ],
             [
              1,
              "#f0f921"
             ]
            ],
            "type": "surface"
           }
          ],
          "table": [
           {
            "cells": {
             "fill": {
              "color": "#EBF0F8"
             },
             "line": {
              "color": "white"
             }
            },
            "header": {
             "fill": {
              "color": "#C8D4E3"
             },
             "line": {
              "color": "white"
             }
            },
            "type": "table"
           }
          ]
         },
         "layout": {
          "annotationdefaults": {
           "arrowcolor": "#2a3f5f",
           "arrowhead": 0,
           "arrowwidth": 1
          },
          "autotypenumbers": "strict",
          "coloraxis": {
           "colorbar": {
            "outlinewidth": 0,
            "ticks": ""
           }
          },
          "colorscale": {
           "diverging": [
            [
             0,
             "#8e0152"
            ],
            [
             0.1,
             "#c51b7d"
            ],
            [
             0.2,
             "#de77ae"
            ],
            [
             0.3,
             "#f1b6da"
            ],
            [
             0.4,
             "#fde0ef"
            ],
            [
             0.5,
             "#f7f7f7"
            ],
            [
             0.6,
             "#e6f5d0"
            ],
            [
             0.7,
             "#b8e186"
            ],
            [
             0.8,
             "#7fbc41"
            ],
            [
             0.9,
             "#4d9221"
            ],
            [
             1,
             "#276419"
            ]
           ],
           "sequential": [
            [
             0,
             "#0d0887"
            ],
            [
             0.1111111111111111,
             "#46039f"
            ],
            [
             0.2222222222222222,
             "#7201a8"
            ],
            [
             0.3333333333333333,
             "#9c179e"
            ],
            [
             0.4444444444444444,
             "#bd3786"
            ],
            [
             0.5555555555555556,
             "#d8576b"
            ],
            [
             0.6666666666666666,
             "#ed7953"
            ],
            [
             0.7777777777777778,
             "#fb9f3a"
            ],
            [
             0.8888888888888888,
             "#fdca26"
            ],
            [
             1,
             "#f0f921"
            ]
           ],
           "sequentialminus": [
            [
             0,
             "#0d0887"
            ],
            [
             0.1111111111111111,
             "#46039f"
            ],
            [
             0.2222222222222222,
             "#7201a8"
            ],
            [
             0.3333333333333333,
             "#9c179e"
            ],
            [
             0.4444444444444444,
             "#bd3786"
            ],
            [
             0.5555555555555556,
             "#d8576b"
            ],
            [
             0.6666666666666666,
             "#ed7953"
            ],
            [
             0.7777777777777778,
             "#fb9f3a"
            ],
            [
             0.8888888888888888,
             "#fdca26"
            ],
            [
             1,
             "#f0f921"
            ]
           ]
          },
          "colorway": [
           "#636efa",
           "#EF553B",
           "#00cc96",
           "#ab63fa",
           "#FFA15A",
           "#19d3f3",
           "#FF6692",
           "#B6E880",
           "#FF97FF",
           "#FECB52"
          ],
          "font": {
           "color": "#2a3f5f"
          },
          "geo": {
           "bgcolor": "white",
           "lakecolor": "white",
           "landcolor": "#E5ECF6",
           "showlakes": true,
           "showland": true,
           "subunitcolor": "white"
          },
          "hoverlabel": {
           "align": "left"
          },
          "hovermode": "closest",
          "mapbox": {
           "style": "light"
          },
          "paper_bgcolor": "white",
          "plot_bgcolor": "#E5ECF6",
          "polar": {
           "angularaxis": {
            "gridcolor": "white",
            "linecolor": "white",
            "ticks": ""
           },
           "bgcolor": "#E5ECF6",
           "radialaxis": {
            "gridcolor": "white",
            "linecolor": "white",
            "ticks": ""
           }
          },
          "scene": {
           "xaxis": {
            "backgroundcolor": "#E5ECF6",
            "gridcolor": "white",
            "gridwidth": 2,
            "linecolor": "white",
            "showbackground": true,
            "ticks": "",
            "zerolinecolor": "white"
           },
           "yaxis": {
            "backgroundcolor": "#E5ECF6",
            "gridcolor": "white",
            "gridwidth": 2,
            "linecolor": "white",
            "showbackground": true,
            "ticks": "",
            "zerolinecolor": "white"
           },
           "zaxis": {
            "backgroundcolor": "#E5ECF6",
            "gridcolor": "white",
            "gridwidth": 2,
            "linecolor": "white",
            "showbackground": true,
            "ticks": "",
            "zerolinecolor": "white"
           }
          },
          "shapedefaults": {
           "line": {
            "color": "#2a3f5f"
           }
          },
          "ternary": {
           "aaxis": {
            "gridcolor": "white",
            "linecolor": "white",
            "ticks": ""
           },
           "baxis": {
            "gridcolor": "white",
            "linecolor": "white",
            "ticks": ""
           },
           "bgcolor": "#E5ECF6",
           "caxis": {
            "gridcolor": "white",
            "linecolor": "white",
            "ticks": ""
           }
          },
          "title": {
           "x": 0.05
          },
          "xaxis": {
           "automargin": true,
           "gridcolor": "white",
           "linecolor": "white",
           "ticks": "",
           "title": {
            "standoff": 15
           },
           "zerolinecolor": "white",
           "zerolinewidth": 2
          },
          "yaxis": {
           "automargin": true,
           "gridcolor": "white",
           "linecolor": "white",
           "ticks": "",
           "title": {
            "standoff": 15
           },
           "zerolinecolor": "white",
           "zerolinewidth": 2
          }
         }
        },
        "title": {
         "text": "Distribution of Primary Male enrollment %"
        },
        "xaxis": {
         "anchor": "y",
         "domain": [
          0,
          1
         ],
         "title": {
          "text": "Primary Male enrollment %"
         }
        },
        "yaxis": {
         "anchor": "x",
         "domain": [
          0,
          1
         ],
         "title": {
          "text": "count"
         }
        }
       }
      }
     },
     "metadata": {},
     "output_type": "display_data"
    },
    {
     "data": {
      "application/vnd.plotly.v1+json": {
       "config": {
        "plotlyServerURL": "https://plot.ly"
       },
       "data": [
        {
         "bingroup": "x",
         "hovertemplate": "Primary female enrollment %=%{x}<br>count=%{y}<extra></extra>",
         "legendgroup": "",
         "marker": {
          "color": "#636efa",
          "pattern": {
           "shape": ""
          }
         },
         "name": "",
         "orientation": "v",
         "showlegend": false,
         "type": "histogram",
         "x": {
          "bdata": "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",
          "dtype": "f8"
         },
         "xaxis": "x",
         "yaxis": "y"
        }
       ],
       "layout": {
        "barmode": "relative",
        "legend": {
         "tracegroupgap": 0
        },
        "template": {
         "data": {
          "bar": [
           {
            "error_x": {
             "color": "#2a3f5f"
            },
            "error_y": {
             "color": "#2a3f5f"
            },
            "marker": {
             "line": {
              "color": "#E5ECF6",
              "width": 0.5
             },
             "pattern": {
              "fillmode": "overlay",
              "size": 10,
              "solidity": 0.2
             }
            },
            "type": "bar"
           }
          ],
          "barpolar": [
           {
            "marker": {
             "line": {
              "color": "#E5ECF6",
              "width": 0.5
             },
             "pattern": {
              "fillmode": "overlay",
              "size": 10,
              "solidity": 0.2
             }
            },
            "type": "barpolar"
           }
          ],
          "carpet": [
           {
            "aaxis": {
             "endlinecolor": "#2a3f5f",
             "gridcolor": "white",
             "linecolor": "white",
             "minorgridcolor": "white",
             "startlinecolor": "#2a3f5f"
            },
            "baxis": {
             "endlinecolor": "#2a3f5f",
             "gridcolor": "white",
             "linecolor": "white",
             "minorgridcolor": "white",
             "startlinecolor": "#2a3f5f"
            },
            "type": "carpet"
           }
          ],
          "choropleth": [
           {
            "colorbar": {
             "outlinewidth": 0,
             "ticks": ""
            },
            "type": "choropleth"
           }
          ],
          "contour": [
           {
            "colorbar": {
             "outlinewidth": 0,
             "ticks": ""
            },
            "colorscale": [
             [
              0,
              "#0d0887"
             ],
             [
              0.1111111111111111,
              "#46039f"
             ],
             [
              0.2222222222222222,
              "#7201a8"
             ],
             [
              0.3333333333333333,
              "#9c179e"
             ],
             [
              0.4444444444444444,
              "#bd3786"
             ],
             [
              0.5555555555555556,
              "#d8576b"
             ],
             [
              0.6666666666666666,
              "#ed7953"
             ],
             [
              0.7777777777777778,
              "#fb9f3a"
             ],
             [
              0.8888888888888888,
              "#fdca26"
             ],
             [
              1,
              "#f0f921"
             ]
            ],
            "type": "contour"
           }
          ],
          "contourcarpet": [
           {
            "colorbar": {
             "outlinewidth": 0,
             "ticks": ""
            },
            "type": "contourcarpet"
           }
          ],
          "heatmap": [
           {
            "colorbar": {
             "outlinewidth": 0,
             "ticks": ""
            },
            "colorscale": [
             [
              0,
              "#0d0887"
             ],
             [
              0.1111111111111111,
              "#46039f"
             ],
             [
              0.2222222222222222,
              "#7201a8"
             ],
             [
              0.3333333333333333,
              "#9c179e"
             ],
             [
              0.4444444444444444,
              "#bd3786"
             ],
             [
              0.5555555555555556,
              "#d8576b"
             ],
             [
              0.6666666666666666,
              "#ed7953"
             ],
             [
              0.7777777777777778,
              "#fb9f3a"
             ],
             [
              0.8888888888888888,
              "#fdca26"
             ],
             [
              1,
              "#f0f921"
             ]
            ],
            "type": "heatmap"
           }
          ],
          "histogram": [
           {
            "marker": {
             "pattern": {
              "fillmode": "overlay",
              "size": 10,
              "solidity": 0.2
             }
            },
            "type": "histogram"
           }
          ],
          "histogram2d": [
           {
            "colorbar": {
             "outlinewidth": 0,
             "ticks": ""
            },
            "colorscale": [
             [
              0,
              "#0d0887"
             ],
             [
              0.1111111111111111,
              "#46039f"
             ],
             [
              0.2222222222222222,
              "#7201a8"
             ],
             [
              0.3333333333333333,
              "#9c179e"
             ],
             [
              0.4444444444444444,
              "#bd3786"
             ],
             [
              0.5555555555555556,
              "#d8576b"
             ],
             [
              0.6666666666666666,
              "#ed7953"
             ],
             [
              0.7777777777777778,
              "#fb9f3a"
             ],
             [
              0.8888888888888888,
              "#fdca26"
             ],
             [
              1,
              "#f0f921"
             ]
            ],
            "type": "histogram2d"
           }
          ],
          "histogram2dcontour": [
           {
            "colorbar": {
             "outlinewidth": 0,
             "ticks": ""
            },
            "colorscale": [
             [
              0,
              "#0d0887"
             ],
             [
              0.1111111111111111,
              "#46039f"
             ],
             [
              0.2222222222222222,
              "#7201a8"
             ],
             [
              0.3333333333333333,
              "#9c179e"
             ],
             [
              0.4444444444444444,
              "#bd3786"
             ],
             [
              0.5555555555555556,
              "#d8576b"
             ],
             [
              0.6666666666666666,
              "#ed7953"
             ],
             [
              0.7777777777777778,
              "#fb9f3a"
             ],
             [
              0.8888888888888888,
              "#fdca26"
             ],
             [
              1,
              "#f0f921"
             ]
            ],
            "type": "histogram2dcontour"
           }
          ],
          "mesh3d": [
           {
            "colorbar": {
             "outlinewidth": 0,
             "ticks": ""
            },
            "type": "mesh3d"
           }
          ],
          "parcoords": [
           {
            "line": {
             "colorbar": {
              "outlinewidth": 0,
              "ticks": ""
             }
            },
            "type": "parcoords"
           }
          ],
          "pie": [
           {
            "automargin": true,
            "type": "pie"
           }
          ],
          "scatter": [
           {
            "fillpattern": {
             "fillmode": "overlay",
             "size": 10,
             "solidity": 0.2
            },
            "type": "scatter"
           }
          ],
          "scatter3d": [
           {
            "line": {
             "colorbar": {
              "outlinewidth": 0,
              "ticks": ""
             }
            },
            "marker": {
             "colorbar": {
              "outlinewidth": 0,
              "ticks": ""
             }
            },
            "type": "scatter3d"
           }
          ],
          "scattercarpet": [
           {
            "marker": {
             "colorbar": {
              "outlinewidth": 0,
              "ticks": ""
             }
            },
            "type": "scattercarpet"
           }
          ],
          "scattergeo": [
           {
            "marker": {
             "colorbar": {
              "outlinewidth": 0,
              "ticks": ""
             }
            },
            "type": "scattergeo"
           }
          ],
          "scattergl": [
           {
            "marker": {
             "colorbar": {
              "outlinewidth": 0,
              "ticks": ""
             }
            },
            "type": "scattergl"
           }
          ],
          "scattermap": [
           {
            "marker": {
             "colorbar": {
              "outlinewidth": 0,
              "ticks": ""
             }
            },
            "type": "scattermap"
           }
          ],
          "scattermapbox": [
           {
            "marker": {
             "colorbar": {
              "outlinewidth": 0,
              "ticks": ""
             }
            },
            "type": "scattermapbox"
           }
          ],
          "scatterpolar": [
           {
            "marker": {
             "colorbar": {
              "outlinewidth": 0,
              "ticks": ""
             }
            },
            "type": "scatterpolar"
           }
          ],
          "scatterpolargl": [
           {
            "marker": {
             "colorbar": {
              "outlinewidth": 0,
              "ticks": ""
             }
            },
            "type": "scatterpolargl"
           }
          ],
          "scatterternary": [
           {
            "marker": {
             "colorbar": {
              "outlinewidth": 0,
              "ticks": ""
             }
            },
            "type": "scatterternary"
           }
          ],
          "surface": [
           {
            "colorbar": {
             "outlinewidth": 0,
             "ticks": ""
            },
            "colorscale": [
             [
              0,
              "#0d0887"
             ],
             [
              0.1111111111111111,
              "#46039f"
             ],
             [
              0.2222222222222222,
              "#7201a8"
             ],
             [
              0.3333333333333333,
              "#9c179e"
             ],
             [
              0.4444444444444444,
              "#bd3786"
             ],
             [
              0.5555555555555556,
              "#d8576b"
             ],
             [
              0.6666666666666666,
              "#ed7953"
             ],
             [
              0.7777777777777778,
              "#fb9f3a"
             ],
             [
              0.8888888888888888,
              "#fdca26"
             ],
             [
              1,
              "#f0f921"
             ]
            ],
            "type": "surface"
           }
          ],
          "table": [
           {
            "cells": {
             "fill": {
              "color": "#EBF0F8"
             },
             "line": {
              "color": "white"
             }
            },
            "header": {
             "fill": {
              "color": "#C8D4E3"
             },
             "line": {
              "color": "white"
             }
            },
            "type": "table"
           }
          ]
         },
         "layout": {
          "annotationdefaults": {
           "arrowcolor": "#2a3f5f",
           "arrowhead": 0,
           "arrowwidth": 1
          },
          "autotypenumbers": "strict",
          "coloraxis": {
           "colorbar": {
            "outlinewidth": 0,
            "ticks": ""
           }
          },
          "colorscale": {
           "diverging": [
            [
             0,
             "#8e0152"
            ],
            [
             0.1,
             "#c51b7d"
            ],
            [
             0.2,
             "#de77ae"
            ],
            [
             0.3,
             "#f1b6da"
            ],
            [
             0.4,
             "#fde0ef"
            ],
            [
             0.5,
             "#f7f7f7"
            ],
            [
             0.6,
             "#e6f5d0"
            ],
            [
             0.7,
             "#b8e186"
            ],
            [
             0.8,
             "#7fbc41"
            ],
            [
             0.9,
             "#4d9221"
            ],
            [
             1,
             "#276419"
            ]
           ],
           "sequential": [
            [
             0,
             "#0d0887"
            ],
            [
             0.1111111111111111,
             "#46039f"
            ],
            [
             0.2222222222222222,
             "#7201a8"
            ],
            [
             0.3333333333333333,
             "#9c179e"
            ],
            [
             0.4444444444444444,
             "#bd3786"
            ],
            [
             0.5555555555555556,
             "#d8576b"
            ],
            [
             0.6666666666666666,
             "#ed7953"
            ],
            [
             0.7777777777777778,
             "#fb9f3a"
            ],
            [
             0.8888888888888888,
             "#fdca26"
            ],
            [
             1,
             "#f0f921"
            ]
           ],
           "sequentialminus": [
            [
             0,
             "#0d0887"
            ],
            [
             0.1111111111111111,
             "#46039f"
            ],
            [
             0.2222222222222222,
             "#7201a8"
            ],
            [
             0.3333333333333333,
             "#9c179e"
            ],
            [
             0.4444444444444444,
             "#bd3786"
            ],
            [
             0.5555555555555556,
             "#d8576b"
            ],
            [
             0.6666666666666666,
             "#ed7953"
            ],
            [
             0.7777777777777778,
             "#fb9f3a"
            ],
            [
             0.8888888888888888,
             "#fdca26"
            ],
            [
             1,
             "#f0f921"
            ]
           ]
          },
          "colorway": [
           "#636efa",
           "#EF553B",
           "#00cc96",
           "#ab63fa",
           "#FFA15A",
           "#19d3f3",
           "#FF6692",
           "#B6E880",
           "#FF97FF",
           "#FECB52"
          ],
          "font": {
           "color": "#2a3f5f"
          },
          "geo": {
           "bgcolor": "white",
           "lakecolor": "white",
           "landcolor": "#E5ECF6",
           "showlakes": true,
           "showland": true,
           "subunitcolor": "white"
          },
          "hoverlabel": {
           "align": "left"
          },
          "hovermode": "closest",
          "mapbox": {
           "style": "light"
          },
          "paper_bgcolor": "white",
          "plot_bgcolor": "#E5ECF6",
          "polar": {
           "angularaxis": {
            "gridcolor": "white",
            "linecolor": "white",
            "ticks": ""
           },
           "bgcolor": "#E5ECF6",
           "radialaxis": {
            "gridcolor": "white",
            "linecolor": "white",
            "ticks": ""
           }
          },
          "scene": {
           "xaxis": {
            "backgroundcolor": "#E5ECF6",
            "gridcolor": "white",
            "gridwidth": 2,
            "linecolor": "white",
            "showbackground": true,
            "ticks": "",
            "zerolinecolor": "white"
           },
           "yaxis": {
            "backgroundcolor": "#E5ECF6",
            "gridcolor": "white",
            "gridwidth": 2,
            "linecolor": "white",
            "showbackground": true,
            "ticks": "",
            "zerolinecolor": "white"
           },
           "zaxis": {
            "backgroundcolor": "#E5ECF6",
            "gridcolor": "white",
            "gridwidth": 2,
            "linecolor": "white",
            "showbackground": true,
            "ticks": "",
            "zerolinecolor": "white"
           }
          },
          "shapedefaults": {
           "line": {
            "color": "#2a3f5f"
           }
          },
          "ternary": {
           "aaxis": {
            "gridcolor": "white",
            "linecolor": "white",
            "ticks": ""
           },
           "baxis": {
            "gridcolor": "white",
            "linecolor": "white",
            "ticks": ""
           },
           "bgcolor": "#E5ECF6",
           "caxis": {
            "gridcolor": "white",
            "linecolor": "white",
            "ticks": ""
           }
          },
          "title": {
           "x": 0.05
          },
          "xaxis": {
           "automargin": true,
           "gridcolor": "white",
           "linecolor": "white",
           "ticks": "",
           "title": {
            "standoff": 15
           },
           "zerolinecolor": "white",
           "zerolinewidth": 2
          },
          "yaxis": {
           "automargin": true,
           "gridcolor": "white",
           "linecolor": "white",
           "ticks": "",
           "title": {
            "standoff": 15
           },
           "zerolinecolor": "white",
           "zerolinewidth": 2
          }
         }
        },
        "title": {
         "text": "Distribution of Primary female enrollment %"
        },
        "xaxis": {
         "anchor": "y",
         "domain": [
          0,
          1
         ],
         "title": {
          "text": "Primary female enrollment %"
         }
        },
        "yaxis": {
         "anchor": "x",
         "domain": [
          0,
          1
         ],
         "title": {
          "text": "count"
         }
        }
       }
      }
     },
     "metadata": {},
     "output_type": "display_data"
    },
    {
     "data": {
      "application/vnd.plotly.v1+json": {
       "config": {
        "plotlyServerURL": "https://plot.ly"
       },
       "data": [
        {
         "bingroup": "x",
         "hovertemplate": "Total Secondary male enrollment %=%{x}<br>count=%{y}<extra></extra>",
         "legendgroup": "",
         "marker": {
          "color": "#636efa",
          "pattern": {
           "shape": ""
          }
         },
         "name": "",
         "orientation": "v",
         "showlegend": false,
         "type": "histogram",
         "x": {
          "bdata": "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",
          "dtype": "f8"
         },
         "xaxis": "x",
         "yaxis": "y"
        }
       ],
       "layout": {
        "barmode": "relative",
        "legend": {
         "tracegroupgap": 0
        },
        "template": {
         "data": {
          "bar": [
           {
            "error_x": {
             "color": "#2a3f5f"
            },
            "error_y": {
             "color": "#2a3f5f"
            },
            "marker": {
             "line": {
              "color": "#E5ECF6",
              "width": 0.5
             },
             "pattern": {
              "fillmode": "overlay",
              "size": 10,
              "solidity": 0.2
             }
            },
            "type": "bar"
           }
          ],
          "barpolar": [
           {
            "marker": {
             "line": {
              "color": "#E5ECF6",
              "width": 0.5
             },
             "pattern": {
              "fillmode": "overlay",
              "size": 10,
              "solidity": 0.2
             }
            },
            "type": "barpolar"
           }
          ],
          "carpet": [
           {
            "aaxis": {
             "endlinecolor": "#2a3f5f",
             "gridcolor": "white",
             "linecolor": "white",
             "minorgridcolor": "white",
             "startlinecolor": "#2a3f5f"
            },
            "baxis": {
             "endlinecolor": "#2a3f5f",
             "gridcolor": "white",
             "linecolor": "white",
             "minorgridcolor": "white",
             "startlinecolor": "#2a3f5f"
            },
            "type": "carpet"
           }
          ],
          "choropleth": [
           {
            "colorbar": {
             "outlinewidth": 0,
             "ticks": ""
            },
            "type": "choropleth"
           }
          ],
          "contour": [
           {
            "colorbar": {
             "outlinewidth": 0,
             "ticks": ""
            },
            "colorscale": [
             [
              0,
              "#0d0887"
             ],
             [
              0.1111111111111111,
              "#46039f"
             ],
             [
              0.2222222222222222,
              "#7201a8"
             ],
             [
              0.3333333333333333,
              "#9c179e"
             ],
             [
              0.4444444444444444,
              "#bd3786"
             ],
             [
              0.5555555555555556,
              "#d8576b"
             ],
             [
              0.6666666666666666,
              "#ed7953"
             ],
             [
              0.7777777777777778,
              "#fb9f3a"
             ],
             [
              0.8888888888888888,
              "#fdca26"
             ],
             [
              1,
              "#f0f921"
             ]
            ],
            "type": "contour"
           }
          ],
          "contourcarpet": [
           {
            "colorbar": {
             "outlinewidth": 0,
             "ticks": ""
            },
            "type": "contourcarpet"
           }
          ],
          "heatmap": [
           {
            "colorbar": {
             "outlinewidth": 0,
             "ticks": ""
            },
            "colorscale": [
             [
              0,
              "#0d0887"
             ],
             [
              0.1111111111111111,
              "#46039f"
             ],
             [
              0.2222222222222222,
              "#7201a8"
             ],
             [
              0.3333333333333333,
              "#9c179e"
             ],
             [
              0.4444444444444444,
              "#bd3786"
             ],
             [
              0.5555555555555556,
              "#d8576b"
             ],
             [
              0.6666666666666666,
              "#ed7953"
             ],
             [
              0.7777777777777778,
              "#fb9f3a"
             ],
             [
              0.8888888888888888,
              "#fdca26"
             ],
             [
              1,
              "#f0f921"
             ]
            ],
            "type": "heatmap"
           }
          ],
          "histogram": [
           {
            "marker": {
             "pattern": {
              "fillmode": "overlay",
              "size": 10,
              "solidity": 0.2
             }
            },
            "type": "histogram"
           }
          ],
          "histogram2d": [
           {
            "colorbar": {
             "outlinewidth": 0,
             "ticks": ""
            },
            "colorscale": [
             [
              0,
              "#0d0887"
             ],
             [
              0.1111111111111111,
              "#46039f"
             ],
             [
              0.2222222222222222,
              "#7201a8"
             ],
             [
              0.3333333333333333,
              "#9c179e"
             ],
             [
              0.4444444444444444,
              "#bd3786"
             ],
             [
              0.5555555555555556,
              "#d8576b"
             ],
             [
              0.6666666666666666,
              "#ed7953"
             ],
             [
              0.7777777777777778,
              "#fb9f3a"
             ],
             [
              0.8888888888888888,
              "#fdca26"
             ],
             [
              1,
              "#f0f921"
             ]
            ],
            "type": "histogram2d"
           }
          ],
          "histogram2dcontour": [
           {
            "colorbar": {
             "outlinewidth": 0,
             "ticks": ""
            },
            "colorscale": [
             [
              0,
              "#0d0887"
             ],
             [
              0.1111111111111111,
              "#46039f"
             ],
             [
              0.2222222222222222,
              "#7201a8"
             ],
             [
              0.3333333333333333,
              "#9c179e"
             ],
             [
              0.4444444444444444,
              "#bd3786"
             ],
             [
              0.5555555555555556,
              "#d8576b"
             ],
             [
              0.6666666666666666,
              "#ed7953"
             ],
             [
              0.7777777777777778,
              "#fb9f3a"
             ],
             [
              0.8888888888888888,
              "#fdca26"
             ],
             [
              1,
              "#f0f921"
             ]
            ],
            "type": "histogram2dcontour"
           }
          ],
          "mesh3d": [
           {
            "colorbar": {
             "outlinewidth": 0,
             "ticks": ""
            },
            "type": "mesh3d"
           }
          ],
          "parcoords": [
           {
            "line": {
             "colorbar": {
              "outlinewidth": 0,
              "ticks": ""
             }
            },
            "type": "parcoords"
           }
          ],
          "pie": [
           {
            "automargin": true,
            "type": "pie"
           }
          ],
          "scatter": [
           {
            "fillpattern": {
             "fillmode": "overlay",
             "size": 10,
             "solidity": 0.2
            },
            "type": "scatter"
           }
          ],
          "scatter3d": [
           {
            "line": {
             "colorbar": {
              "outlinewidth": 0,
              "ticks": ""
             }
            },
            "marker": {
             "colorbar": {
              "outlinewidth": 0,
              "ticks": ""
             }
            },
            "type": "scatter3d"
           }
          ],
          "scattercarpet": [
           {
            "marker": {
             "colorbar": {
              "outlinewidth": 0,
              "ticks": ""
             }
            },
            "type": "scattercarpet"
           }
          ],
          "scattergeo": [
           {
            "marker": {
             "colorbar": {
              "outlinewidth": 0,
              "ticks": ""
             }
            },
            "type": "scattergeo"
           }
          ],
          "scattergl": [
           {
            "marker": {
             "colorbar": {
              "outlinewidth": 0,
              "ticks": ""
             }
            },
            "type": "scattergl"
           }
          ],
          "scattermap": [
           {
            "marker": {
             "colorbar": {
              "outlinewidth": 0,
              "ticks": ""
             }
            },
            "type": "scattermap"
           }
          ],
          "scattermapbox": [
           {
            "marker": {
             "colorbar": {
              "outlinewidth": 0,
              "ticks": ""
             }
            },
            "type": "scattermapbox"
           }
          ],
          "scatterpolar": [
           {
            "marker": {
             "colorbar": {
              "outlinewidth": 0,
              "ticks": ""
             }
            },
            "type": "scatterpolar"
           }
          ],
          "scatterpolargl": [
           {
            "marker": {
             "colorbar": {
              "outlinewidth": 0,
              "ticks": ""
             }
            },
            "type": "scatterpolargl"
           }
          ],
          "scatterternary": [
           {
            "marker": {
             "colorbar": {
              "outlinewidth": 0,
              "ticks": ""
             }
            },
            "type": "scatterternary"
           }
          ],
          "surface": [
           {
            "colorbar": {
             "outlinewidth": 0,
             "ticks": ""
            },
            "colorscale": [
             [
              0,
              "#0d0887"
             ],
             [
              0.1111111111111111,
              "#46039f"
             ],
             [
              0.2222222222222222,
              "#7201a8"
             ],
             [
              0.3333333333333333,
              "#9c179e"
             ],
             [
              0.4444444444444444,
              "#bd3786"
             ],
             [
              0.5555555555555556,
              "#d8576b"
             ],
             [
              0.6666666666666666,
              "#ed7953"
             ],
             [
              0.7777777777777778,
              "#fb9f3a"
             ],
             [
              0.8888888888888888,
              "#fdca26"
             ],
             [
              1,
              "#f0f921"
             ]
            ],
            "type": "surface"
           }
          ],
          "table": [
           {
            "cells": {
             "fill": {
              "color": "#EBF0F8"
             },
             "line": {
              "color": "white"
             }
            },
            "header": {
             "fill": {
              "color": "#C8D4E3"
             },
             "line": {
              "color": "white"
             }
            },
            "type": "table"
           }
          ]
         },
         "layout": {
          "annotationdefaults": {
           "arrowcolor": "#2a3f5f",
           "arrowhead": 0,
           "arrowwidth": 1
          },
          "autotypenumbers": "strict",
          "coloraxis": {
           "colorbar": {
            "outlinewidth": 0,
            "ticks": ""
           }
          },
          "colorscale": {
           "diverging": [
            [
             0,
             "#8e0152"
            ],
            [
             0.1,
             "#c51b7d"
            ],
            [
             0.2,
             "#de77ae"
            ],
            [
             0.3,
             "#f1b6da"
            ],
            [
             0.4,
             "#fde0ef"
            ],
            [
             0.5,
             "#f7f7f7"
            ],
            [
             0.6,
             "#e6f5d0"
            ],
            [
             0.7,
             "#b8e186"
            ],
            [
             0.8,
             "#7fbc41"
            ],
            [
             0.9,
             "#4d9221"
            ],
            [
             1,
             "#276419"
            ]
           ],
           "sequential": [
            [
             0,
             "#0d0887"
            ],
            [
             0.1111111111111111,
             "#46039f"
            ],
            [
             0.2222222222222222,
             "#7201a8"
            ],
            [
             0.3333333333333333,
             "#9c179e"
            ],
            [
             0.4444444444444444,
             "#bd3786"
            ],
            [
             0.5555555555555556,
             "#d8576b"
            ],
            [
             0.6666666666666666,
             "#ed7953"
            ],
            [
             0.7777777777777778,
             "#fb9f3a"
            ],
            [
             0.8888888888888888,
             "#fdca26"
            ],
            [
             1,
             "#f0f921"
            ]
           ],
           "sequentialminus": [
            [
             0,
             "#0d0887"
            ],
            [
             0.1111111111111111,
             "#46039f"
            ],
            [
             0.2222222222222222,
             "#7201a8"
            ],
            [
             0.3333333333333333,
             "#9c179e"
            ],
            [
             0.4444444444444444,
             "#bd3786"
            ],
            [
             0.5555555555555556,
             "#d8576b"
            ],
            [
             0.6666666666666666,
             "#ed7953"
            ],
            [
             0.7777777777777778,
             "#fb9f3a"
            ],
            [
             0.8888888888888888,
             "#fdca26"
            ],
            [
             1,
             "#f0f921"
            ]
           ]
          },
          "colorway": [
           "#636efa",
           "#EF553B",
           "#00cc96",
           "#ab63fa",
           "#FFA15A",
           "#19d3f3",
           "#FF6692",
           "#B6E880",
           "#FF97FF",
           "#FECB52"
          ],
          "font": {
           "color": "#2a3f5f"
          },
          "geo": {
           "bgcolor": "white",
           "lakecolor": "white",
           "landcolor": "#E5ECF6",
           "showlakes": true,
           "showland": true,
           "subunitcolor": "white"
          },
          "hoverlabel": {
           "align": "left"
          },
          "hovermode": "closest",
          "mapbox": {
           "style": "light"
          },
          "paper_bgcolor": "white",
          "plot_bgcolor": "#E5ECF6",
          "polar": {
           "angularaxis": {
            "gridcolor": "white",
            "linecolor": "white",
            "ticks": ""
           },
           "bgcolor": "#E5ECF6",
           "radialaxis": {
            "gridcolor": "white",
            "linecolor": "white",
            "ticks": ""
           }
          },
          "scene": {
           "xaxis": {
            "backgroundcolor": "#E5ECF6",
            "gridcolor": "white",
            "gridwidth": 2,
            "linecolor": "white",
            "showbackground": true,
            "ticks": "",
            "zerolinecolor": "white"
           },
           "yaxis": {
            "backgroundcolor": "#E5ECF6",
            "gridcolor": "white",
            "gridwidth": 2,
            "linecolor": "white",
            "showbackground": true,
            "ticks": "",
            "zerolinecolor": "white"
           },
           "zaxis": {
            "backgroundcolor": "#E5ECF6",
            "gridcolor": "white",
            "gridwidth": 2,
            "linecolor": "white",
            "showbackground": true,
            "ticks": "",
            "zerolinecolor": "white"
           }
          },
          "shapedefaults": {
           "line": {
            "color": "#2a3f5f"
           }
          },
          "ternary": {
           "aaxis": {
            "gridcolor": "white",
            "linecolor": "white",
            "ticks": ""
           },
           "baxis": {
            "gridcolor": "white",
            "linecolor": "white",
            "ticks": ""
           },
           "bgcolor": "#E5ECF6",
           "caxis": {
            "gridcolor": "white",
            "linecolor": "white",
            "ticks": ""
           }
          },
          "title": {
           "x": 0.05
          },
          "xaxis": {
           "automargin": true,
           "gridcolor": "white",
           "linecolor": "white",
           "ticks": "",
           "title": {
            "standoff": 15
           },
           "zerolinecolor": "white",
           "zerolinewidth": 2
          },
          "yaxis": {
           "automargin": true,
           "gridcolor": "white",
           "linecolor": "white",
           "ticks": "",
           "title": {
            "standoff": 15
           },
           "zerolinecolor": "white",
           "zerolinewidth": 2
          }
         }
        },
        "title": {
         "text": "Distribution of Total Secondary male enrollment %"
        },
        "xaxis": {
         "anchor": "y",
         "domain": [
          0,
          1
         ],
         "title": {
          "text": "Total Secondary male enrollment %"
         }
        },
        "yaxis": {
         "anchor": "x",
         "domain": [
          0,
          1
         ],
         "title": {
          "text": "count"
         }
        }
       }
      }
     },
     "metadata": {},
     "output_type": "display_data"
    }
   ],
   "source": [
    "import plotly.express as px\n",
    "import numpy as np\n",
    "\n",
    "key_vars = [\n",
    "    'Primary Male enrollment %', 'Primary female enrollment %',\n",
    "    'Total Secondary male enrollment %', 'Total secondary female enrollment %',\n",
    "    'Government primary education expenditure %ge of GDP',\n",
    "    'Government Secondary education expenditure %ge of GDP', 'GDP per capita'\n",
    "]\n",
    "merged_data[key_vars] = merged_data[key_vars].apply(pd.to_numeric, errors='coerce')\n",
    "merged_data[key_vars] = merged_data[key_vars].replace('..', np.nan)                                                  \n",
    "print(merged_data[key_vars].describe())\n",
    "\n",
    "\n",
    "\n",
    "for var in key_vars[:3]:  # Limit to 3 for visualization brevity\n",
    "    fig = px.histogram(merged_data, x=var, title=f\"Distribution of {var}\")\n",
    "    fig.show()"
   ]
  }
 ],
 "metadata": {
  "kernelspec": {
   "display_name": "Python 3",
   "language": "python",
   "name": "python3"
  },
  "language_info": {
   "codemirror_mode": {
    "name": "ipython",
    "version": 3
   },
   "file_extension": ".py",
   "mimetype": "text/x-python",
   "name": "python",
   "nbconvert_exporter": "python",
   "pygments_lexer": "ipython3",
   "version": "3.12.1"
  }
 },
 "nbformat": 4,
 "nbformat_minor": 5
}
